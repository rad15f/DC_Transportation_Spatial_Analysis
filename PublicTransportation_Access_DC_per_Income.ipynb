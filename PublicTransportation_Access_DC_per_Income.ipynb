{
 "cells": [
  {
   "attachments": {},
   "cell_type": "markdown",
   "metadata": {
    "deletable": false,
    "editable": false,
    "nbgrader": {
     "cell_type": "markdown",
     "checksum": "94111c3a5115fcad5e399b2745c96a5f",
     "grade": false,
     "grade_id": "jupyter",
     "locked": true,
     "schema_version": 3,
     "solution": false
    }
   },
   "source": [
    "# Are there more or less bus stops in neighborhoods with below average income?\n",
    "\n"
   ]
  },
  {
   "cell_type": "markdown",
   "metadata": {},
   "source": [
    "## Hypothesis Foundation\n",
    "https://www.census.gov/newsroom/blogs/research-matters/2015/12/in-what-ways-are-d-c-area-neighborhoods-with-rail-transit-different-from-other-neighborhoods.html\n",
    "https://www.urban.org/features/unequal-commute"
   ]
  },
  {
   "cell_type": "markdown",
   "metadata": {},
   "source": [
    "Objective: Compare bustops in neighboords with below average income vs above average income\n",
    "\n",
    "### Hypothesis 0: Below average income neighboords have fewer bus stops compare to above average incomes\n",
    "\n",
    "### Hypothesis 1: Below average income neighboords have more or equal bus stops compare to above average incomes\n"
   ]
  },
  {
   "cell_type": "code",
   "execution_count": 3,
   "metadata": {
    "scrolled": true
   },
   "outputs": [
    {
     "name": "stderr",
     "output_type": "stream",
     "text": [
      "/opt/conda/lib/python3.9/site-packages/geopandas/_compat.py:111: UserWarning: The Shapely GEOS version (3.9.1-CAPI-1.14.2) is incompatible with the GEOS version PyGEOS was compiled with (3.10.0-CAPI-1.16.0). Conversions between both will be slow.\n",
      "  warnings.warn(\n"
     ]
    }
   ],
   "source": [
    "import pandas as pd\n",
    "import geopandas as gpd\n",
    "from shapely.geometry import Point, LineString, Polygon\n",
    "\n",
    "dc_metro = gpd.read_file('https://opendata.arcgis.com/datasets/e85b5321a5a84ff9af56fd614dab81b3_53.geojson')\n",
    "#https://opendata.dc.gov/datasets/DCGIS::metro-bus-stops/about"
   ]
  },
  {
   "cell_type": "code",
   "execution_count": 4,
   "metadata": {
    "scrolled": true
   },
   "outputs": [
    {
     "data": {
      "text/html": [
       "<div>\n",
       "<style scoped>\n",
       "    .dataframe tbody tr th:only-of-type {\n",
       "        vertical-align: middle;\n",
       "    }\n",
       "\n",
       "    .dataframe tbody tr th {\n",
       "        vertical-align: top;\n",
       "    }\n",
       "\n",
       "    .dataframe thead th {\n",
       "        text-align: right;\n",
       "    }\n",
       "</style>\n",
       "<table border=\"1\" class=\"dataframe\">\n",
       "  <thead>\n",
       "    <tr style=\"text-align: right;\">\n",
       "      <th></th>\n",
       "      <th>EGIS_ID</th>\n",
       "      <th>REG_ID</th>\n",
       "      <th>BSTP_GEO_ID</th>\n",
       "      <th>BSTP_OPS_TCD</th>\n",
       "      <th>BSTP_EFF_DATE</th>\n",
       "      <th>BSTP_TCD</th>\n",
       "      <th>AT_STR</th>\n",
       "      <th>ON_STR</th>\n",
       "      <th>BSTP_HDG</th>\n",
       "      <th>BSTP_POS_TCD</th>\n",
       "      <th>...</th>\n",
       "      <th>BSTP_LAT</th>\n",
       "      <th>GIS_ID</th>\n",
       "      <th>SE_ANNO_CAD_DATA</th>\n",
       "      <th>OBJECTID</th>\n",
       "      <th>GLOBALID</th>\n",
       "      <th>CREATOR</th>\n",
       "      <th>CREATED</th>\n",
       "      <th>EDITOR</th>\n",
       "      <th>EDITED</th>\n",
       "      <th>geometry</th>\n",
       "    </tr>\n",
       "  </thead>\n",
       "  <tbody>\n",
       "    <tr>\n",
       "      <th>0</th>\n",
       "      <td>1310679</td>\n",
       "      <td>3003039</td>\n",
       "      <td>14837</td>\n",
       "      <td>PRS</td>\n",
       "      <td>2001-11-14T00:00:00+00:00</td>\n",
       "      <td>UNK</td>\n",
       "      <td>LIGHT RAIL STATION</td>\n",
       "      <td>BWI AIRPORT</td>\n",
       "      <td>87</td>\n",
       "      <td>MID</td>\n",
       "      <td>...</td>\n",
       "      <td>39.191491</td>\n",
       "      <td>BusStopPt_581</td>\n",
       "      <td>None</td>\n",
       "      <td>1</td>\n",
       "      <td>{FD3DB5B2-FF05-482C-AF82-98B2727951C6}</td>\n",
       "      <td>None</td>\n",
       "      <td>None</td>\n",
       "      <td>None</td>\n",
       "      <td>None</td>\n",
       "      <td>POINT (-76.67303 39.19150)</td>\n",
       "    </tr>\n",
       "    <tr>\n",
       "      <th>1</th>\n",
       "      <td>1310678</td>\n",
       "      <td>3003038</td>\n",
       "      <td>14836</td>\n",
       "      <td>PRS</td>\n",
       "      <td>2001-11-14T00:00:00+00:00</td>\n",
       "      <td>UNK</td>\n",
       "      <td>CONCOURSE E</td>\n",
       "      <td>BWI AIRPORT</td>\n",
       "      <td>326</td>\n",
       "      <td>MID</td>\n",
       "      <td>...</td>\n",
       "      <td>39.181321</td>\n",
       "      <td>BusStopPt_836</td>\n",
       "      <td>None</td>\n",
       "      <td>2</td>\n",
       "      <td>{E6533895-2DBD-41F0-96F7-AB25E02AC18F}</td>\n",
       "      <td>None</td>\n",
       "      <td>None</td>\n",
       "      <td>None</td>\n",
       "      <td>None</td>\n",
       "      <td>POINT (-76.66894 39.18133)</td>\n",
       "    </tr>\n",
       "  </tbody>\n",
       "</table>\n",
       "<p>2 rows × 67 columns</p>\n",
       "</div>"
      ],
      "text/plain": [
       "   EGIS_ID   REG_ID  BSTP_GEO_ID BSTP_OPS_TCD              BSTP_EFF_DATE  \\\n",
       "0  1310679  3003039        14837          PRS  2001-11-14T00:00:00+00:00   \n",
       "1  1310678  3003038        14836          PRS  2001-11-14T00:00:00+00:00   \n",
       "\n",
       "  BSTP_TCD              AT_STR       ON_STR  BSTP_HDG BSTP_POS_TCD  ...  \\\n",
       "0      UNK  LIGHT RAIL STATION  BWI AIRPORT        87          MID  ...   \n",
       "1      UNK         CONCOURSE E  BWI AIRPORT       326          MID  ...   \n",
       "\n",
       "    BSTP_LAT         GIS_ID SE_ANNO_CAD_DATA OBJECTID  \\\n",
       "0  39.191491  BusStopPt_581             None        1   \n",
       "1  39.181321  BusStopPt_836             None        2   \n",
       "\n",
       "                                 GLOBALID  CREATOR CREATED EDITOR EDITED  \\\n",
       "0  {FD3DB5B2-FF05-482C-AF82-98B2727951C6}     None    None   None   None   \n",
       "1  {E6533895-2DBD-41F0-96F7-AB25E02AC18F}     None    None   None   None   \n",
       "\n",
       "                     geometry  \n",
       "0  POINT (-76.67303 39.19150)  \n",
       "1  POINT (-76.66894 39.18133)  \n",
       "\n",
       "[2 rows x 67 columns]"
      ]
     },
     "execution_count": 4,
     "metadata": {},
     "output_type": "execute_result"
    }
   ],
   "source": [
    "dc_metro.head(2) "
   ]
  },
  {
   "cell_type": "code",
   "execution_count": 5,
   "metadata": {
    "scrolled": true
   },
   "outputs": [
    {
     "data": {
      "text/plain": [
       "<Geographic 2D CRS: EPSG:4326>\n",
       "Name: WGS 84\n",
       "Axis Info [ellipsoidal]:\n",
       "- Lat[north]: Geodetic latitude (degree)\n",
       "- Lon[east]: Geodetic longitude (degree)\n",
       "Area of Use:\n",
       "- name: World.\n",
       "- bounds: (-180.0, -90.0, 180.0, 90.0)\n",
       "Datum: World Geodetic System 1984 ensemble\n",
       "- Ellipsoid: WGS 84\n",
       "- Prime Meridian: Greenwich"
      ]
     },
     "execution_count": 5,
     "metadata": {},
     "output_type": "execute_result"
    }
   ],
   "source": [
    "dc_metro.crs"
   ]
  },
  {
   "cell_type": "code",
   "execution_count": 6,
   "metadata": {
    "scrolled": true
   },
   "outputs": [
    {
     "data": {
      "text/plain": [
       "Index(['EGIS_ID', 'REG_ID', 'BSTP_GEO_ID', 'BSTP_OPS_TCD', 'BSTP_EFF_DATE',\n",
       "       'BSTP_TCD', 'AT_STR', 'ON_STR', 'BSTP_HDG', 'BSTP_POS_TCD', 'BSTP_LDC',\n",
       "       'BSTP_MSG_TEXT', 'BSTP_LAT_LON_TCD', 'BSTP_INV_SYR_TCD',\n",
       "       'BSTP_INV_SRV_DATE', 'BSTP_BNH_CNT', 'BSTP_BST_TCD', 'BSTP_IFC_OWN',\n",
       "       'BSTP_HAS_BKRS', 'BSTP_HAS_PRS', 'BSTP_HAS_PVM', 'BSTP_HAS_PRM',\n",
       "       'BSTP_PDP_SIZE_TCD', 'BSTP_PDP_MTR_TCD', 'BSTP_PDP_OBS_TCD',\n",
       "       'BSTP_PDP_HAS_CCN', 'BSTP_HAS_BDR_PDP', 'BSTP_BDR_PDP_OBS',\n",
       "       'BSTP_SWK_WDT', 'BSTP_SWK_HAS_CCN', 'BSTP_SWK_HAS_PPC',\n",
       "       'BSTP_SWK_SLP_WVL', 'BSTP_SWK_OBS_TCD', 'BSTP_SWK_IPD_TCD',\n",
       "       'ONS_CRP_SLP', 'ONS_CRP', 'OFS_CRP', 'AT_STR_ABS_CRP', 'AT_STR_OSS_CRP',\n",
       "       'ONS_CWK', 'OFS_CWK', 'AT_STR_ABS_CWK', 'AT_STR_OSS_CWK',\n",
       "       'ON_STR_STS_OR_TFL', 'ON_STR_PDC_SGL', 'AT_STR_PDC_SGL',\n",
       "       'BSTP_PRK_RST_TCD', 'BSTP_NPK_ZNE_LTH', 'CNF_NPK_SNS',\n",
       "       'STR_LGT_WTN_30_FT', 'BSTP_HAS_LED_DSP', 'BSTP_ACC_RATING',\n",
       "       'BSTP_BRDG_STP', 'BSTP_HAS_LUM_SIGN', 'BSTP_HAS_PWR_SRC',\n",
       "       'METRO_ACCS_STP', 'BSTP_LON', 'BSTP_LAT', 'GIS_ID', 'SE_ANNO_CAD_DATA',\n",
       "       'OBJECTID', 'GLOBALID', 'CREATOR', 'CREATED', 'EDITOR', 'EDITED',\n",
       "       'geometry'],\n",
       "      dtype='object')"
      ]
     },
     "execution_count": 6,
     "metadata": {},
     "output_type": "execute_result"
    }
   ],
   "source": [
    "dc_metro.columns"
   ]
  },
  {
   "cell_type": "code",
   "execution_count": 7,
   "metadata": {},
   "outputs": [
    {
     "name": "stdout",
     "output_type": "stream",
     "text": [
      "Requirement already satisfied: lxml in /opt/conda/lib/python3.9/site-packages (4.8.0)\r\n"
     ]
    }
   ],
   "source": [
    "! pip install lxml"
   ]
  },
  {
   "cell_type": "code",
   "execution_count": 8,
   "metadata": {},
   "outputs": [],
   "source": [
    "#B06010\n",
    "#https://www.census.gov/data/developers/data-sets/acs-5year.2017.html\n",
    "\n",
    "import pandas as pd \n",
    "\n",
    "\n",
    "variables = pd.read_html('https://api.census.gov/data/2017/acs/acs1/groups/B06010.html',header=0)\n"
   ]
  },
  {
   "cell_type": "code",
   "execution_count": 9,
   "metadata": {
    "scrolled": true
   },
   "outputs": [
    {
     "data": {
      "text/html": [
       "<div>\n",
       "<style scoped>\n",
       "    .dataframe tbody tr th:only-of-type {\n",
       "        vertical-align: middle;\n",
       "    }\n",
       "\n",
       "    .dataframe tbody tr th {\n",
       "        vertical-align: top;\n",
       "    }\n",
       "\n",
       "    .dataframe thead th {\n",
       "        text-align: right;\n",
       "    }\n",
       "</style>\n",
       "<table border=\"1\" class=\"dataframe\">\n",
       "  <thead>\n",
       "    <tr style=\"text-align: right;\">\n",
       "      <th></th>\n",
       "      <th>Name</th>\n",
       "      <th>Label</th>\n",
       "      <th>Concept</th>\n",
       "      <th>Required</th>\n",
       "      <th>Attributes</th>\n",
       "      <th>Limit</th>\n",
       "      <th>Predicate Type</th>\n",
       "      <th>Group</th>\n",
       "      <th>Unnamed: 8</th>\n",
       "    </tr>\n",
       "  </thead>\n",
       "  <tbody>\n",
       "    <tr>\n",
       "      <th>0</th>\n",
       "      <td>B06010_001E</td>\n",
       "      <td>Estimate!!Total</td>\n",
       "      <td>PLACE OF BIRTH BY INDIVIDUAL INCOME IN THE PAS...</td>\n",
       "      <td>predicate-only</td>\n",
       "      <td>NaN</td>\n",
       "      <td>0</td>\n",
       "      <td>int</td>\n",
       "      <td>B06010</td>\n",
       "      <td>NaN</td>\n",
       "    </tr>\n",
       "    <tr>\n",
       "      <th>1</th>\n",
       "      <td>B06010_001EA</td>\n",
       "      <td>Annotation of Estimate!!Total</td>\n",
       "      <td>PLACE OF BIRTH BY INDIVIDUAL INCOME IN THE PAS...</td>\n",
       "      <td>predicate-only</td>\n",
       "      <td>NaN</td>\n",
       "      <td>0</td>\n",
       "      <td>string</td>\n",
       "      <td>B06010</td>\n",
       "      <td>NaN</td>\n",
       "    </tr>\n",
       "    <tr>\n",
       "      <th>2</th>\n",
       "      <td>B06010_001M</td>\n",
       "      <td>Margin of Error!!Total</td>\n",
       "      <td>PLACE OF BIRTH BY INDIVIDUAL INCOME IN THE PAS...</td>\n",
       "      <td>predicate-only</td>\n",
       "      <td>NaN</td>\n",
       "      <td>0</td>\n",
       "      <td>int</td>\n",
       "      <td>B06010</td>\n",
       "      <td>NaN</td>\n",
       "    </tr>\n",
       "    <tr>\n",
       "      <th>3</th>\n",
       "      <td>B06010_001MA</td>\n",
       "      <td>Annotation of Margin of Error!!Total</td>\n",
       "      <td>PLACE OF BIRTH BY INDIVIDUAL INCOME IN THE PAS...</td>\n",
       "      <td>predicate-only</td>\n",
       "      <td>NaN</td>\n",
       "      <td>0</td>\n",
       "      <td>string</td>\n",
       "      <td>B06010</td>\n",
       "      <td>NaN</td>\n",
       "    </tr>\n",
       "    <tr>\n",
       "      <th>4</th>\n",
       "      <td>B06010_002E</td>\n",
       "      <td>Estimate!!Total!!No income</td>\n",
       "      <td>PLACE OF BIRTH BY INDIVIDUAL INCOME IN THE PAS...</td>\n",
       "      <td>predicate-only</td>\n",
       "      <td>NaN</td>\n",
       "      <td>0</td>\n",
       "      <td>int</td>\n",
       "      <td>B06010</td>\n",
       "      <td>NaN</td>\n",
       "    </tr>\n",
       "    <tr>\n",
       "      <th>...</th>\n",
       "      <td>...</td>\n",
       "      <td>...</td>\n",
       "      <td>...</td>\n",
       "      <td>...</td>\n",
       "      <td>...</td>\n",
       "      <td>...</td>\n",
       "      <td>...</td>\n",
       "      <td>...</td>\n",
       "      <td>...</td>\n",
       "    </tr>\n",
       "    <tr>\n",
       "      <th>216</th>\n",
       "      <td>B06010_055E</td>\n",
       "      <td>Estimate!!Total!!Foreign born!!With income!!$7...</td>\n",
       "      <td>PLACE OF BIRTH BY INDIVIDUAL INCOME IN THE PAS...</td>\n",
       "      <td>predicate-only</td>\n",
       "      <td>NaN</td>\n",
       "      <td>0</td>\n",
       "      <td>int</td>\n",
       "      <td>B06010</td>\n",
       "      <td>NaN</td>\n",
       "    </tr>\n",
       "    <tr>\n",
       "      <th>217</th>\n",
       "      <td>B06010_055EA</td>\n",
       "      <td>Annotation of Estimate!!Total!!Foreign born!!W...</td>\n",
       "      <td>PLACE OF BIRTH BY INDIVIDUAL INCOME IN THE PAS...</td>\n",
       "      <td>predicate-only</td>\n",
       "      <td>NaN</td>\n",
       "      <td>0</td>\n",
       "      <td>string</td>\n",
       "      <td>B06010</td>\n",
       "      <td>NaN</td>\n",
       "    </tr>\n",
       "    <tr>\n",
       "      <th>218</th>\n",
       "      <td>B06010_055M</td>\n",
       "      <td>Margin of Error!!Total!!Foreign born!!With inc...</td>\n",
       "      <td>PLACE OF BIRTH BY INDIVIDUAL INCOME IN THE PAS...</td>\n",
       "      <td>predicate-only</td>\n",
       "      <td>NaN</td>\n",
       "      <td>0</td>\n",
       "      <td>int</td>\n",
       "      <td>B06010</td>\n",
       "      <td>NaN</td>\n",
       "    </tr>\n",
       "    <tr>\n",
       "      <th>219</th>\n",
       "      <td>B06010_055MA</td>\n",
       "      <td>Annotation of Margin of Error!!Total!!Foreign ...</td>\n",
       "      <td>PLACE OF BIRTH BY INDIVIDUAL INCOME IN THE PAS...</td>\n",
       "      <td>predicate-only</td>\n",
       "      <td>NaN</td>\n",
       "      <td>0</td>\n",
       "      <td>string</td>\n",
       "      <td>B06010</td>\n",
       "      <td>NaN</td>\n",
       "    </tr>\n",
       "    <tr>\n",
       "      <th>220</th>\n",
       "      <td>220 variables</td>\n",
       "      <td>220 variables</td>\n",
       "      <td>220 variables</td>\n",
       "      <td>220 variables</td>\n",
       "      <td>220 variables</td>\n",
       "      <td>220 variables</td>\n",
       "      <td>220 variables</td>\n",
       "      <td>220 variables</td>\n",
       "      <td>220 variables</td>\n",
       "    </tr>\n",
       "  </tbody>\n",
       "</table>\n",
       "<p>221 rows × 9 columns</p>\n",
       "</div>"
      ],
      "text/plain": [
       "              Name                                              Label  \\\n",
       "0      B06010_001E                                    Estimate!!Total   \n",
       "1     B06010_001EA                      Annotation of Estimate!!Total   \n",
       "2      B06010_001M                             Margin of Error!!Total   \n",
       "3     B06010_001MA               Annotation of Margin of Error!!Total   \n",
       "4      B06010_002E                         Estimate!!Total!!No income   \n",
       "..             ...                                                ...   \n",
       "216    B06010_055E  Estimate!!Total!!Foreign born!!With income!!$7...   \n",
       "217   B06010_055EA  Annotation of Estimate!!Total!!Foreign born!!W...   \n",
       "218    B06010_055M  Margin of Error!!Total!!Foreign born!!With inc...   \n",
       "219   B06010_055MA  Annotation of Margin of Error!!Total!!Foreign ...   \n",
       "220  220 variables                                      220 variables   \n",
       "\n",
       "                                               Concept        Required  \\\n",
       "0    PLACE OF BIRTH BY INDIVIDUAL INCOME IN THE PAS...  predicate-only   \n",
       "1    PLACE OF BIRTH BY INDIVIDUAL INCOME IN THE PAS...  predicate-only   \n",
       "2    PLACE OF BIRTH BY INDIVIDUAL INCOME IN THE PAS...  predicate-only   \n",
       "3    PLACE OF BIRTH BY INDIVIDUAL INCOME IN THE PAS...  predicate-only   \n",
       "4    PLACE OF BIRTH BY INDIVIDUAL INCOME IN THE PAS...  predicate-only   \n",
       "..                                                 ...             ...   \n",
       "216  PLACE OF BIRTH BY INDIVIDUAL INCOME IN THE PAS...  predicate-only   \n",
       "217  PLACE OF BIRTH BY INDIVIDUAL INCOME IN THE PAS...  predicate-only   \n",
       "218  PLACE OF BIRTH BY INDIVIDUAL INCOME IN THE PAS...  predicate-only   \n",
       "219  PLACE OF BIRTH BY INDIVIDUAL INCOME IN THE PAS...  predicate-only   \n",
       "220                                      220 variables   220 variables   \n",
       "\n",
       "        Attributes          Limit Predicate Type          Group     Unnamed: 8  \n",
       "0              NaN              0            int         B06010            NaN  \n",
       "1              NaN              0         string         B06010            NaN  \n",
       "2              NaN              0            int         B06010            NaN  \n",
       "3              NaN              0         string         B06010            NaN  \n",
       "4              NaN              0            int         B06010            NaN  \n",
       "..             ...            ...            ...            ...            ...  \n",
       "216            NaN              0            int         B06010            NaN  \n",
       "217            NaN              0         string         B06010            NaN  \n",
       "218            NaN              0            int         B06010            NaN  \n",
       "219            NaN              0         string         B06010            NaN  \n",
       "220  220 variables  220 variables  220 variables  220 variables  220 variables  \n",
       "\n",
       "[221 rows x 9 columns]"
      ]
     },
     "metadata": {},
     "output_type": "display_data"
    }
   ],
   "source": [
    "variables = variables[0]\n",
    "display(variables)"
   ]
  },
  {
   "cell_type": "code",
   "execution_count": 10,
   "metadata": {
    "scrolled": true
   },
   "outputs": [],
   "source": [
    "variables[variables['Label'].str.contains(pat='Estimate!!Total!!With income!!')].to_csv('./data/variables.csv')\n",
    "v = variables[variables['Label'].str.contains(pat='Estimate!!Total!!With income!!')]"
   ]
  },
  {
   "cell_type": "code",
   "execution_count": 11,
   "metadata": {
    "scrolled": true
   },
   "outputs": [],
   "source": [
    "#v['Name'].unique()"
   ]
  },
  {
   "cell_type": "code",
   "execution_count": 12,
   "metadata": {},
   "outputs": [
    {
     "data": {
      "text/html": [
       "<div>\n",
       "<style scoped>\n",
       "    .dataframe tbody tr th:only-of-type {\n",
       "        vertical-align: middle;\n",
       "    }\n",
       "\n",
       "    .dataframe tbody tr th {\n",
       "        vertical-align: top;\n",
       "    }\n",
       "\n",
       "    .dataframe thead th {\n",
       "        text-align: right;\n",
       "    }\n",
       "</style>\n",
       "<table border=\"1\" class=\"dataframe\">\n",
       "  <thead>\n",
       "    <tr style=\"text-align: right;\">\n",
       "      <th></th>\n",
       "      <th>Name</th>\n",
       "      <th>Label</th>\n",
       "    </tr>\n",
       "  </thead>\n",
       "  <tbody>\n",
       "    <tr>\n",
       "      <th>12</th>\n",
       "      <td>B06010_004E</td>\n",
       "      <td>Estimate!!Total!!With income!!$1 to $9,999 or ...</td>\n",
       "    </tr>\n",
       "    <tr>\n",
       "      <th>13</th>\n",
       "      <td>B06010_004EA</td>\n",
       "      <td>Annotation of Estimate!!Total!!With income!!$1...</td>\n",
       "    </tr>\n",
       "    <tr>\n",
       "      <th>16</th>\n",
       "      <td>B06010_005E</td>\n",
       "      <td>Estimate!!Total!!With income!!$10,000 to $14,999</td>\n",
       "    </tr>\n",
       "    <tr>\n",
       "      <th>17</th>\n",
       "      <td>B06010_005EA</td>\n",
       "      <td>Annotation of Estimate!!Total!!With income!!$1...</td>\n",
       "    </tr>\n",
       "    <tr>\n",
       "      <th>20</th>\n",
       "      <td>B06010_006E</td>\n",
       "      <td>Estimate!!Total!!With income!!$15,000 to $24,999</td>\n",
       "    </tr>\n",
       "    <tr>\n",
       "      <th>21</th>\n",
       "      <td>B06010_006EA</td>\n",
       "      <td>Annotation of Estimate!!Total!!With income!!$1...</td>\n",
       "    </tr>\n",
       "    <tr>\n",
       "      <th>24</th>\n",
       "      <td>B06010_007E</td>\n",
       "      <td>Estimate!!Total!!With income!!$25,000 to $34,999</td>\n",
       "    </tr>\n",
       "    <tr>\n",
       "      <th>25</th>\n",
       "      <td>B06010_007EA</td>\n",
       "      <td>Annotation of Estimate!!Total!!With income!!$2...</td>\n",
       "    </tr>\n",
       "    <tr>\n",
       "      <th>28</th>\n",
       "      <td>B06010_008E</td>\n",
       "      <td>Estimate!!Total!!With income!!$35,000 to $49,999</td>\n",
       "    </tr>\n",
       "    <tr>\n",
       "      <th>29</th>\n",
       "      <td>B06010_008EA</td>\n",
       "      <td>Annotation of Estimate!!Total!!With income!!$3...</td>\n",
       "    </tr>\n",
       "    <tr>\n",
       "      <th>32</th>\n",
       "      <td>B06010_009E</td>\n",
       "      <td>Estimate!!Total!!With income!!$50,000 to $64,999</td>\n",
       "    </tr>\n",
       "    <tr>\n",
       "      <th>33</th>\n",
       "      <td>B06010_009EA</td>\n",
       "      <td>Annotation of Estimate!!Total!!With income!!$5...</td>\n",
       "    </tr>\n",
       "    <tr>\n",
       "      <th>36</th>\n",
       "      <td>B06010_010E</td>\n",
       "      <td>Estimate!!Total!!With income!!$65,000 to $74,999</td>\n",
       "    </tr>\n",
       "    <tr>\n",
       "      <th>37</th>\n",
       "      <td>B06010_010EA</td>\n",
       "      <td>Annotation of Estimate!!Total!!With income!!$6...</td>\n",
       "    </tr>\n",
       "    <tr>\n",
       "      <th>40</th>\n",
       "      <td>B06010_011E</td>\n",
       "      <td>Estimate!!Total!!With income!!$75,000 or more</td>\n",
       "    </tr>\n",
       "    <tr>\n",
       "      <th>41</th>\n",
       "      <td>B06010_011EA</td>\n",
       "      <td>Annotation of Estimate!!Total!!With income!!$7...</td>\n",
       "    </tr>\n",
       "  </tbody>\n",
       "</table>\n",
       "</div>"
      ],
      "text/plain": [
       "            Name                                              Label\n",
       "12   B06010_004E  Estimate!!Total!!With income!!$1 to $9,999 or ...\n",
       "13  B06010_004EA  Annotation of Estimate!!Total!!With income!!$1...\n",
       "16   B06010_005E   Estimate!!Total!!With income!!$10,000 to $14,999\n",
       "17  B06010_005EA  Annotation of Estimate!!Total!!With income!!$1...\n",
       "20   B06010_006E   Estimate!!Total!!With income!!$15,000 to $24,999\n",
       "21  B06010_006EA  Annotation of Estimate!!Total!!With income!!$1...\n",
       "24   B06010_007E   Estimate!!Total!!With income!!$25,000 to $34,999\n",
       "25  B06010_007EA  Annotation of Estimate!!Total!!With income!!$2...\n",
       "28   B06010_008E   Estimate!!Total!!With income!!$35,000 to $49,999\n",
       "29  B06010_008EA  Annotation of Estimate!!Total!!With income!!$3...\n",
       "32   B06010_009E   Estimate!!Total!!With income!!$50,000 to $64,999\n",
       "33  B06010_009EA  Annotation of Estimate!!Total!!With income!!$5...\n",
       "36   B06010_010E   Estimate!!Total!!With income!!$65,000 to $74,999\n",
       "37  B06010_010EA  Annotation of Estimate!!Total!!With income!!$6...\n",
       "40   B06010_011E      Estimate!!Total!!With income!!$75,000 or more\n",
       "41  B06010_011EA  Annotation of Estimate!!Total!!With income!!$7..."
      ]
     },
     "execution_count": 12,
     "metadata": {},
     "output_type": "execute_result"
    }
   ],
   "source": [
    "v[['Name','Label']]"
   ]
  },
  {
   "cell_type": "code",
   "execution_count": 13,
   "metadata": {},
   "outputs": [
    {
     "data": {
      "text/html": [
       "<div>\n",
       "<style scoped>\n",
       "    .dataframe tbody tr th:only-of-type {\n",
       "        vertical-align: middle;\n",
       "    }\n",
       "\n",
       "    .dataframe tbody tr th {\n",
       "        vertical-align: top;\n",
       "    }\n",
       "\n",
       "    .dataframe thead th {\n",
       "        text-align: right;\n",
       "    }\n",
       "</style>\n",
       "<table border=\"1\" class=\"dataframe\">\n",
       "  <thead>\n",
       "    <tr style=\"text-align: right;\">\n",
       "      <th></th>\n",
       "      <th>Variable name</th>\n",
       "      <th>Variable URL</th>\n",
       "    </tr>\n",
       "  </thead>\n",
       "  <tbody>\n",
       "    <tr>\n",
       "      <th>0</th>\n",
       "      <td>Bus Stops</td>\n",
       "      <td>https://opendata.dc.gov/datasets/DCGIS::metro-...</td>\n",
       "    </tr>\n",
       "  </tbody>\n",
       "</table>\n",
       "</div>"
      ],
      "text/plain": [
       "  Variable name                                       Variable URL\n",
       "0     Bus Stops  https://opendata.dc.gov/datasets/DCGIS::metro-..."
      ]
     },
     "execution_count": 13,
     "metadata": {},
     "output_type": "execute_result"
    }
   ],
   "source": [
    "data = {'Variable name': ['Bus Stops'],\n",
    "            'Variable URL': ['https://opendata.dc.gov/datasets/DCGIS::metro-bus-stops/about']}\n",
    "\n",
    "df = pd.DataFrame(data)\n",
    "df"
   ]
  },
  {
   "cell_type": "code",
   "execution_count": null,
   "metadata": {},
   "outputs": [],
   "source": [
    "\n",
    "! wget https://www2.census.gov/geo/tiger/TIGER2017/TRACT/tl_2017_11_tract.zip\n",
    "! unzip tl_2017_11_tract.zip"
   ]
  },
  {
   "cell_type": "code",
   "execution_count": 14,
   "metadata": {},
   "outputs": [
    {
     "name": "stdout",
     "output_type": "stream",
     "text": [
      "Requirement already satisfied: census in /opt/conda/lib/python3.9/site-packages (0.8.18)\r\n",
      "Requirement already satisfied: us in /opt/conda/lib/python3.9/site-packages (2.0.2)\r\n",
      "Requirement already satisfied: requests>=1.1.0 in /opt/conda/lib/python3.9/site-packages (from census) (2.27.1)\r\n",
      "Requirement already satisfied: jellyfish==0.6.1 in /opt/conda/lib/python3.9/site-packages (from us) (0.6.1)\r\n",
      "Requirement already satisfied: idna<4,>=2.5 in /opt/conda/lib/python3.9/site-packages (from requests>=1.1.0->census) (3.1)\r\n",
      "Requirement already satisfied: charset-normalizer~=2.0.0 in /opt/conda/lib/python3.9/site-packages (from requests>=1.1.0->census) (2.0.0)\r\n",
      "Requirement already satisfied: urllib3<1.27,>=1.21.1 in /opt/conda/lib/python3.9/site-packages (from requests>=1.1.0->census) (1.26.7)\r\n",
      "Requirement already satisfied: certifi>=2017.4.17 in /opt/conda/lib/python3.9/site-packages (from requests>=1.1.0->census) (2021.10.8)\r\n"
     ]
    }
   ],
   "source": [
    "! pip install census us"
   ]
  },
  {
   "cell_type": "code",
   "execution_count": 15,
   "metadata": {},
   "outputs": [],
   "source": [
    "#import census function called Census and import states from us module\n",
    "from census import Census\n",
    "from us import states\n"
   ]
  },
  {
   "cell_type": "code",
   "execution_count": 16,
   "metadata": {},
   "outputs": [],
   "source": [
    "session = Census(\"44a334f9af4afbea6ad0aab691a4e6fe96bd61d1\")"
   ]
  },
  {
   "cell_type": "code",
   "execution_count": 17,
   "metadata": {},
   "outputs": [],
   "source": [
    "rent_vars = ['B06010_004E', 'B06010_005E',\n",
    "       'B06010_006E', 'B06010_007E',\n",
    "       'B06010_008E', 'B06010_009E', \n",
    "       'B06010_010E', 'B06010_011E']"
   ]
  },
  {
   "cell_type": "code",
   "execution_count": 18,
   "metadata": {},
   "outputs": [],
   "source": [
    "# use session to download variables based on their name, geography and year\n",
    "dc_census = session.acs5.state_county_tract(fields = ('NAME', *rent_vars ),\n",
    "                                      state_fips = states.DC.fips,\n",
    "                                      county_fips = \"*\",\n",
    "                                      tract = \"*\",\n",
    "                                      year = 2017)"
   ]
  },
  {
   "cell_type": "code",
   "execution_count": 19,
   "metadata": {
    "scrolled": true
   },
   "outputs": [
    {
     "name": "stdout",
     "output_type": "stream",
     "text": [
      "<class 'list'>\n"
     ]
    },
    {
     "data": {
      "text/html": [
       "<div>\n",
       "<style scoped>\n",
       "    .dataframe tbody tr th:only-of-type {\n",
       "        vertical-align: middle;\n",
       "    }\n",
       "\n",
       "    .dataframe tbody tr th {\n",
       "        vertical-align: top;\n",
       "    }\n",
       "\n",
       "    .dataframe thead th {\n",
       "        text-align: right;\n",
       "    }\n",
       "</style>\n",
       "<table border=\"1\" class=\"dataframe\">\n",
       "  <thead>\n",
       "    <tr style=\"text-align: right;\">\n",
       "      <th></th>\n",
       "      <th>NAME</th>\n",
       "      <th>B06010_004E</th>\n",
       "      <th>B06010_005E</th>\n",
       "      <th>B06010_006E</th>\n",
       "      <th>B06010_007E</th>\n",
       "      <th>B06010_008E</th>\n",
       "      <th>B06010_009E</th>\n",
       "      <th>B06010_010E</th>\n",
       "      <th>B06010_011E</th>\n",
       "      <th>state</th>\n",
       "      <th>county</th>\n",
       "      <th>tract</th>\n",
       "    </tr>\n",
       "  </thead>\n",
       "  <tbody>\n",
       "    <tr>\n",
       "      <th>0</th>\n",
       "      <td>Census Tract 21.02, District of Columbia, Dist...</td>\n",
       "      <td>646.0</td>\n",
       "      <td>203.0</td>\n",
       "      <td>534.0</td>\n",
       "      <td>454.0</td>\n",
       "      <td>485.0</td>\n",
       "      <td>404.0</td>\n",
       "      <td>392.0</td>\n",
       "      <td>928.0</td>\n",
       "      <td>11</td>\n",
       "      <td>001</td>\n",
       "      <td>002102</td>\n",
       "    </tr>\n",
       "    <tr>\n",
       "      <th>1</th>\n",
       "      <td>Census Tract 22.02, District of Columbia, Dist...</td>\n",
       "      <td>394.0</td>\n",
       "      <td>137.0</td>\n",
       "      <td>254.0</td>\n",
       "      <td>287.0</td>\n",
       "      <td>400.0</td>\n",
       "      <td>278.0</td>\n",
       "      <td>125.0</td>\n",
       "      <td>427.0</td>\n",
       "      <td>11</td>\n",
       "      <td>001</td>\n",
       "      <td>002202</td>\n",
       "    </tr>\n",
       "  </tbody>\n",
       "</table>\n",
       "</div>"
      ],
      "text/plain": [
       "                                                NAME  B06010_004E  \\\n",
       "0  Census Tract 21.02, District of Columbia, Dist...        646.0   \n",
       "1  Census Tract 22.02, District of Columbia, Dist...        394.0   \n",
       "\n",
       "   B06010_005E  B06010_006E  B06010_007E  B06010_008E  B06010_009E  \\\n",
       "0        203.0        534.0        454.0        485.0        404.0   \n",
       "1        137.0        254.0        287.0        400.0        278.0   \n",
       "\n",
       "   B06010_010E  B06010_011E state county   tract  \n",
       "0        392.0        928.0    11    001  002102  \n",
       "1        125.0        427.0    11    001  002202  "
      ]
     },
     "execution_count": 19,
     "metadata": {},
     "output_type": "execute_result"
    }
   ],
   "source": [
    "# convert the data into a dataframe and view head()\n",
    "print(type(dc_census))\n",
    "dc_df = pd.DataFrame(dc_census)\n",
    "dc_df.head(2)"
   ]
  },
  {
   "cell_type": "code",
   "execution_count": 20,
   "metadata": {},
   "outputs": [],
   "source": [
    "# create binary query to match variable names\n",
    "name_match = variables[\"Name\"].str.match( pat='|'.join(rent_vars))"
   ]
  },
  {
   "cell_type": "code",
   "execution_count": 21,
   "metadata": {
    "scrolled": true
   },
   "outputs": [],
   "source": [
    "# Isolate the data\n",
    "variable_names =  variables[name_match]"
   ]
  },
  {
   "cell_type": "code",
   "execution_count": 22,
   "metadata": {
    "scrolled": true
   },
   "outputs": [
    {
     "data": {
      "text/html": [
       "<div>\n",
       "<style scoped>\n",
       "    .dataframe tbody tr th:only-of-type {\n",
       "        vertical-align: middle;\n",
       "    }\n",
       "\n",
       "    .dataframe tbody tr th {\n",
       "        vertical-align: top;\n",
       "    }\n",
       "\n",
       "    .dataframe thead th {\n",
       "        text-align: right;\n",
       "    }\n",
       "</style>\n",
       "<table border=\"1\" class=\"dataframe\">\n",
       "  <thead>\n",
       "    <tr style=\"text-align: right;\">\n",
       "      <th></th>\n",
       "      <th>Name</th>\n",
       "      <th>Label</th>\n",
       "      <th>Concept</th>\n",
       "      <th>Required</th>\n",
       "      <th>Attributes</th>\n",
       "      <th>Limit</th>\n",
       "      <th>Predicate Type</th>\n",
       "      <th>Group</th>\n",
       "      <th>Unnamed: 8</th>\n",
       "    </tr>\n",
       "  </thead>\n",
       "  <tbody>\n",
       "    <tr>\n",
       "      <th>12</th>\n",
       "      <td>B06010_004E</td>\n",
       "      <td>Estimate!!Total!!With income!!$1 to $9,999 or ...</td>\n",
       "      <td>PLACE OF BIRTH BY INDIVIDUAL INCOME IN THE PAS...</td>\n",
       "      <td>predicate-only</td>\n",
       "      <td>NaN</td>\n",
       "      <td>0</td>\n",
       "      <td>int</td>\n",
       "      <td>B06010</td>\n",
       "      <td>NaN</td>\n",
       "    </tr>\n",
       "    <tr>\n",
       "      <th>16</th>\n",
       "      <td>B06010_005E</td>\n",
       "      <td>Estimate!!Total!!With income!!$10,000 to $14,999</td>\n",
       "      <td>PLACE OF BIRTH BY INDIVIDUAL INCOME IN THE PAS...</td>\n",
       "      <td>predicate-only</td>\n",
       "      <td>NaN</td>\n",
       "      <td>0</td>\n",
       "      <td>int</td>\n",
       "      <td>B06010</td>\n",
       "      <td>NaN</td>\n",
       "    </tr>\n",
       "  </tbody>\n",
       "</table>\n",
       "</div>"
      ],
      "text/plain": [
       "           Name                                              Label  \\\n",
       "12  B06010_004E  Estimate!!Total!!With income!!$1 to $9,999 or ...   \n",
       "16  B06010_005E   Estimate!!Total!!With income!!$10,000 to $14,999   \n",
       "\n",
       "                                              Concept        Required  \\\n",
       "12  PLACE OF BIRTH BY INDIVIDUAL INCOME IN THE PAS...  predicate-only   \n",
       "16  PLACE OF BIRTH BY INDIVIDUAL INCOME IN THE PAS...  predicate-only   \n",
       "\n",
       "   Attributes Limit Predicate Type   Group Unnamed: 8  \n",
       "12        NaN     0            int  B06010        NaN  \n",
       "16        NaN     0            int  B06010        NaN  "
      ]
     },
     "execution_count": 22,
     "metadata": {},
     "output_type": "execute_result"
    }
   ],
   "source": [
    "name_match = variables[\"Name\"].str.match( pat='$|'.join(rent_vars))\n",
    "variable_names =  variables[name_match]\n",
    "variable_names.head(2)"
   ]
  },
  {
   "cell_type": "code",
   "execution_count": 23,
   "metadata": {},
   "outputs": [],
   "source": [
    "# ^^^ AVERAGE INCOME IN DC APROX 50K, below im dividing the Name in Above vs Below"
   ]
  },
  {
   "cell_type": "code",
   "execution_count": 24,
   "metadata": {},
   "outputs": [],
   "source": [
    "variable_dict= {'B06010_004E':'Below_average_income', 'B06010_005E':'Below_average_income',\n",
    "       'B06010_006E':'Below_average_income', 'B06010_007E':'Below_average_income', \n",
    "       'B06010_008E':'Below_average_income',  'B06010_009E':'Above_average_income',\n",
    "       'B06010_010E':'Above_average_income',  'B06010_011E':'Above_average_income'}"
   ]
  },
  {
   "cell_type": "code",
   "execution_count": 25,
   "metadata": {
    "scrolled": true
   },
   "outputs": [
    {
     "data": {
      "text/html": [
       "<div>\n",
       "<style scoped>\n",
       "    .dataframe tbody tr th:only-of-type {\n",
       "        vertical-align: middle;\n",
       "    }\n",
       "\n",
       "    .dataframe tbody tr th {\n",
       "        vertical-align: top;\n",
       "    }\n",
       "\n",
       "    .dataframe thead th {\n",
       "        text-align: right;\n",
       "    }\n",
       "</style>\n",
       "<table border=\"1\" class=\"dataframe\">\n",
       "  <thead>\n",
       "    <tr style=\"text-align: right;\">\n",
       "      <th></th>\n",
       "      <th>NAME</th>\n",
       "      <th>Below_average_income</th>\n",
       "      <th>Below_average_income</th>\n",
       "      <th>Below_average_income</th>\n",
       "      <th>Below_average_income</th>\n",
       "      <th>Below_average_income</th>\n",
       "      <th>Above_average_income</th>\n",
       "      <th>Above_average_income</th>\n",
       "      <th>Above_average_income</th>\n",
       "      <th>state</th>\n",
       "      <th>county</th>\n",
       "      <th>tract</th>\n",
       "    </tr>\n",
       "  </thead>\n",
       "  <tbody>\n",
       "    <tr>\n",
       "      <th>0</th>\n",
       "      <td>Census Tract 21.02, District of Columbia, Dist...</td>\n",
       "      <td>646.0</td>\n",
       "      <td>203.0</td>\n",
       "      <td>534.0</td>\n",
       "      <td>454.0</td>\n",
       "      <td>485.0</td>\n",
       "      <td>404.0</td>\n",
       "      <td>392.0</td>\n",
       "      <td>928.0</td>\n",
       "      <td>11</td>\n",
       "      <td>001</td>\n",
       "      <td>002102</td>\n",
       "    </tr>\n",
       "    <tr>\n",
       "      <th>1</th>\n",
       "      <td>Census Tract 22.02, District of Columbia, Dist...</td>\n",
       "      <td>394.0</td>\n",
       "      <td>137.0</td>\n",
       "      <td>254.0</td>\n",
       "      <td>287.0</td>\n",
       "      <td>400.0</td>\n",
       "      <td>278.0</td>\n",
       "      <td>125.0</td>\n",
       "      <td>427.0</td>\n",
       "      <td>11</td>\n",
       "      <td>001</td>\n",
       "      <td>002202</td>\n",
       "    </tr>\n",
       "  </tbody>\n",
       "</table>\n",
       "</div>"
      ],
      "text/plain": [
       "                                                NAME  Below_average_income  \\\n",
       "0  Census Tract 21.02, District of Columbia, Dist...                 646.0   \n",
       "1  Census Tract 22.02, District of Columbia, Dist...                 394.0   \n",
       "\n",
       "   Below_average_income  Below_average_income  Below_average_income  \\\n",
       "0                 203.0                 534.0                 454.0   \n",
       "1                 137.0                 254.0                 287.0   \n",
       "\n",
       "   Below_average_income  Above_average_income  Above_average_income  \\\n",
       "0                 485.0                 404.0                 392.0   \n",
       "1                 400.0                 278.0                 125.0   \n",
       "\n",
       "   Above_average_income state county   tract  \n",
       "0                 928.0    11    001  002102  \n",
       "1                 427.0    11    001  002202  "
      ]
     },
     "execution_count": 25,
     "metadata": {},
     "output_type": "execute_result"
    }
   ],
   "source": [
    "dc_df.rename(columns=variable_dict, inplace=True)\n",
    "dc_df.head(2)"
   ]
  },
  {
   "cell_type": "markdown",
   "metadata": {
    "deletable": false,
    "editable": false,
    "nbgrader": {
     "cell_type": "markdown",
     "checksum": "04c80c4860d5e343e372850093186afe",
     "grade": false,
     "grade_id": "cell-e9eaa2sdf23423asfdd",
     "locked": true,
     "points": 5,
     "schema_version": 3,
     "solution": false,
     "task": true
    }
   },
   "source": [
    "### Reprojection\n",
    "- Reprojecting to a relevant projection \n",
    "- Cleaning up \n",
    "- Removing unneeded variables and rename useful ones \n",
    "\n",
    "\n"
   ]
  },
  {
   "cell_type": "code",
   "execution_count": 26,
   "metadata": {
    "scrolled": true
   },
   "outputs": [
    {
     "data": {
      "text/plain": [
       "<Geographic 2D CRS: EPSG:4326>\n",
       "Name: WGS 84\n",
       "Axis Info [ellipsoidal]:\n",
       "- Lat[north]: Geodetic latitude (degree)\n",
       "- Lon[east]: Geodetic longitude (degree)\n",
       "Area of Use:\n",
       "- name: World.\n",
       "- bounds: (-180.0, -90.0, 180.0, 90.0)\n",
       "Datum: World Geodetic System 1984 ensemble\n",
       "- Ellipsoid: WGS 84\n",
       "- Prime Meridian: Greenwich"
      ]
     },
     "execution_count": 26,
     "metadata": {},
     "output_type": "execute_result"
    }
   ],
   "source": [
    "dc_metro.crs"
   ]
  },
  {
   "cell_type": "code",
   "execution_count": 27,
   "metadata": {},
   "outputs": [
    {
     "data": {
      "text/html": [
       "<div>\n",
       "<style scoped>\n",
       "    .dataframe tbody tr th:only-of-type {\n",
       "        vertical-align: middle;\n",
       "    }\n",
       "\n",
       "    .dataframe tbody tr th {\n",
       "        vertical-align: top;\n",
       "    }\n",
       "\n",
       "    .dataframe thead th {\n",
       "        text-align: right;\n",
       "    }\n",
       "</style>\n",
       "<table border=\"1\" class=\"dataframe\">\n",
       "  <thead>\n",
       "    <tr style=\"text-align: right;\">\n",
       "      <th></th>\n",
       "      <th>CRS Commo Name</th>\n",
       "      <th>ESPG</th>\n",
       "      <th>proj4 string</th>\n",
       "    </tr>\n",
       "  </thead>\n",
       "  <tbody>\n",
       "    <tr>\n",
       "      <th>0</th>\n",
       "      <td>WGS 84</td>\n",
       "      <td>EPSG:4326</td>\n",
       "      <td>+proj=longlat +ellps=WGS84 +datum=WGS84 +no_defs</td>\n",
       "    </tr>\n",
       "  </tbody>\n",
       "</table>\n",
       "</div>"
      ],
      "text/plain": [
       "  CRS Commo Name        ESPG                                      proj4 string\n",
       "0         WGS 84   EPSG:4326  +proj=longlat +ellps=WGS84 +datum=WGS84 +no_defs"
      ]
     },
     "execution_count": 27,
     "metadata": {},
     "output_type": "execute_result"
    }
   ],
   "source": [
    "data = {'CRS Commo Name': ['WGS 84'],\n",
    "            'ESPG': [' EPSG:4326'],\n",
    "       'proj4 string': ['+proj=longlat +ellps=WGS84 +datum=WGS84 +no_defs']}\n",
    "df = pd.DataFrame(data)\n",
    "df"
   ]
  },
  {
   "cell_type": "code",
   "execution_count": 28,
   "metadata": {},
   "outputs": [],
   "source": [
    "# Start your analysis here:\n",
    "#to cr\n",
    "dc_metro.to_crs('EPSG:32618', inplace =True) #maybe to early to reproject\n"
   ]
  },
  {
   "cell_type": "code",
   "execution_count": 29,
   "metadata": {
    "scrolled": true
   },
   "outputs": [
    {
     "data": {
      "text/plain": [
       "geopandas.geodataframe.GeoDataFrame"
      ]
     },
     "execution_count": 29,
     "metadata": {},
     "output_type": "execute_result"
    }
   ],
   "source": [
    "type(dc_metro)"
   ]
  },
  {
   "cell_type": "code",
   "execution_count": 30,
   "metadata": {},
   "outputs": [],
   "source": [
    "dc_metro.drop(columns = ['BSTP_HDG',\n",
    "       'BSTP_POS_TCD', 'BSTP_LDC', 'BSTP_MSG_TEXT', 'BSTP_LAT_LON_TCD',\n",
    "       'BSTP_INV_SYR_TCD', 'BSTP_INV_SRV_DATE', 'BSTP_BNH_CNT', 'BSTP_BST_TCD',\n",
    "       'BSTP_IFC_OWN', 'BSTP_HAS_BKRS', 'BSTP_HAS_PRS', 'BSTP_HAS_PVM',\n",
    "       'BSTP_HAS_PRM', 'BSTP_PDP_SIZE_TCD', 'BSTP_PDP_MTR_TCD',\n",
    "       'BSTP_PDP_OBS_TCD', 'BSTP_PDP_HAS_CCN', 'BSTP_HAS_BDR_PDP',\n",
    "       'BSTP_BDR_PDP_OBS', 'BSTP_SWK_WDT', 'BSTP_SWK_HAS_CCN',\n",
    "       'BSTP_SWK_HAS_PPC', 'BSTP_SWK_SLP_WVL', 'BSTP_SWK_OBS_TCD',\n",
    "       'BSTP_SWK_IPD_TCD', 'ONS_CRP_SLP', 'ONS_CRP', 'OFS_CRP',\n",
    "       'AT_STR_ABS_CRP', 'AT_STR_OSS_CRP', 'ONS_CWK', 'OFS_CWK',\n",
    "       'AT_STR_ABS_CWK', 'AT_STR_OSS_CWK', 'ON_STR_STS_OR_TFL',\n",
    "       'ON_STR_PDC_SGL', 'AT_STR_PDC_SGL', 'BSTP_PRK_RST_TCD',\n",
    "       'BSTP_NPK_ZNE_LTH', 'CNF_NPK_SNS', 'STR_LGT_WTN_30_FT',\n",
    "       'BSTP_HAS_LED_DSP', 'BSTP_ACC_RATING', 'BSTP_BRDG_STP',\n",
    "       'BSTP_HAS_LUM_SIGN', 'BSTP_HAS_PWR_SRC', 'METRO_ACCS_STP', 'BSTP_LON',\n",
    "       'BSTP_LAT'], inplace = True)"
   ]
  },
  {
   "cell_type": "code",
   "execution_count": 31,
   "metadata": {},
   "outputs": [],
   "source": [
    "dc_metro.drop(columns = ['CREATOR',\n",
    "       'CREATED', 'EDITOR', 'EDITED','SE_ANNO_CAD_DATA','BSTP_EFF_DATE'], inplace = True)"
   ]
  },
  {
   "cell_type": "code",
   "execution_count": 32,
   "metadata": {},
   "outputs": [],
   "source": [
    "dc_metro.drop(columns = ['OBJECTID'], inplace= True)"
   ]
  },
  {
   "cell_type": "code",
   "execution_count": 33,
   "metadata": {
    "scrolled": true
   },
   "outputs": [
    {
     "data": {
      "text/html": [
       "<div>\n",
       "<style scoped>\n",
       "    .dataframe tbody tr th:only-of-type {\n",
       "        vertical-align: middle;\n",
       "    }\n",
       "\n",
       "    .dataframe tbody tr th {\n",
       "        vertical-align: top;\n",
       "    }\n",
       "\n",
       "    .dataframe thead th {\n",
       "        text-align: right;\n",
       "    }\n",
       "</style>\n",
       "<table border=\"1\" class=\"dataframe\">\n",
       "  <thead>\n",
       "    <tr style=\"text-align: right;\">\n",
       "      <th></th>\n",
       "      <th>EGIS_ID</th>\n",
       "      <th>REG_ID</th>\n",
       "      <th>BSTP_GEO_ID</th>\n",
       "      <th>BSTP_OPS_TCD</th>\n",
       "      <th>BSTP_TCD</th>\n",
       "      <th>AT_STR</th>\n",
       "      <th>ON_STR</th>\n",
       "      <th>GIS_ID</th>\n",
       "      <th>GLOBALID</th>\n",
       "      <th>geometry</th>\n",
       "    </tr>\n",
       "  </thead>\n",
       "  <tbody>\n",
       "    <tr>\n",
       "      <th>0</th>\n",
       "      <td>1310679</td>\n",
       "      <td>3003039</td>\n",
       "      <td>14837</td>\n",
       "      <td>PRS</td>\n",
       "      <td>UNK</td>\n",
       "      <td>LIGHT RAIL STATION</td>\n",
       "      <td>BWI AIRPORT</td>\n",
       "      <td>BusStopPt_581</td>\n",
       "      <td>{FD3DB5B2-FF05-482C-AF82-98B2727951C6}</td>\n",
       "      <td>POINT (355516.778 4339360.965)</td>\n",
       "    </tr>\n",
       "    <tr>\n",
       "      <th>1</th>\n",
       "      <td>1310678</td>\n",
       "      <td>3003038</td>\n",
       "      <td>14836</td>\n",
       "      <td>PRS</td>\n",
       "      <td>UNK</td>\n",
       "      <td>CONCOURSE E</td>\n",
       "      <td>BWI AIRPORT</td>\n",
       "      <td>BusStopPt_836</td>\n",
       "      <td>{E6533895-2DBD-41F0-96F7-AB25E02AC18F}</td>\n",
       "      <td>POINT (355849.146 4338225.745)</td>\n",
       "    </tr>\n",
       "  </tbody>\n",
       "</table>\n",
       "</div>"
      ],
      "text/plain": [
       "   EGIS_ID   REG_ID  BSTP_GEO_ID BSTP_OPS_TCD BSTP_TCD              AT_STR  \\\n",
       "0  1310679  3003039        14837          PRS      UNK  LIGHT RAIL STATION   \n",
       "1  1310678  3003038        14836          PRS      UNK         CONCOURSE E   \n",
       "\n",
       "        ON_STR         GIS_ID                                GLOBALID  \\\n",
       "0  BWI AIRPORT  BusStopPt_581  {FD3DB5B2-FF05-482C-AF82-98B2727951C6}   \n",
       "1  BWI AIRPORT  BusStopPt_836  {E6533895-2DBD-41F0-96F7-AB25E02AC18F}   \n",
       "\n",
       "                         geometry  \n",
       "0  POINT (355516.778 4339360.965)  \n",
       "1  POINT (355849.146 4338225.745)  "
      ]
     },
     "execution_count": 33,
     "metadata": {},
     "output_type": "execute_result"
    }
   ],
   "source": [
    "dc_metro.head(2)"
   ]
  },
  {
   "cell_type": "code",
   "execution_count": 34,
   "metadata": {},
   "outputs": [
    {
     "data": {
      "text/html": [
       "<div>\n",
       "<style scoped>\n",
       "    .dataframe tbody tr th:only-of-type {\n",
       "        vertical-align: middle;\n",
       "    }\n",
       "\n",
       "    .dataframe tbody tr th {\n",
       "        vertical-align: top;\n",
       "    }\n",
       "\n",
       "    .dataframe thead th {\n",
       "        text-align: right;\n",
       "    }\n",
       "</style>\n",
       "<table border=\"1\" class=\"dataframe\">\n",
       "  <thead>\n",
       "    <tr style=\"text-align: right;\">\n",
       "      <th></th>\n",
       "      <th>NAME</th>\n",
       "      <th>Below_average_income</th>\n",
       "      <th>Below_average_income</th>\n",
       "      <th>Below_average_income</th>\n",
       "      <th>Below_average_income</th>\n",
       "      <th>Below_average_income</th>\n",
       "      <th>Above_average_income</th>\n",
       "      <th>Above_average_income</th>\n",
       "      <th>Above_average_income</th>\n",
       "      <th>state</th>\n",
       "      <th>county</th>\n",
       "      <th>tract</th>\n",
       "    </tr>\n",
       "  </thead>\n",
       "  <tbody>\n",
       "    <tr>\n",
       "      <th>0</th>\n",
       "      <td>Census Tract 21.02, District of Columbia, Dist...</td>\n",
       "      <td>646.0</td>\n",
       "      <td>203.0</td>\n",
       "      <td>534.0</td>\n",
       "      <td>454.0</td>\n",
       "      <td>485.0</td>\n",
       "      <td>404.0</td>\n",
       "      <td>392.0</td>\n",
       "      <td>928.0</td>\n",
       "      <td>11</td>\n",
       "      <td>001</td>\n",
       "      <td>002102</td>\n",
       "    </tr>\n",
       "    <tr>\n",
       "      <th>1</th>\n",
       "      <td>Census Tract 22.02, District of Columbia, Dist...</td>\n",
       "      <td>394.0</td>\n",
       "      <td>137.0</td>\n",
       "      <td>254.0</td>\n",
       "      <td>287.0</td>\n",
       "      <td>400.0</td>\n",
       "      <td>278.0</td>\n",
       "      <td>125.0</td>\n",
       "      <td>427.0</td>\n",
       "      <td>11</td>\n",
       "      <td>001</td>\n",
       "      <td>002202</td>\n",
       "    </tr>\n",
       "  </tbody>\n",
       "</table>\n",
       "</div>"
      ],
      "text/plain": [
       "                                                NAME  Below_average_income  \\\n",
       "0  Census Tract 21.02, District of Columbia, Dist...                 646.0   \n",
       "1  Census Tract 22.02, District of Columbia, Dist...                 394.0   \n",
       "\n",
       "   Below_average_income  Below_average_income  Below_average_income  \\\n",
       "0                 203.0                 534.0                 454.0   \n",
       "1                 137.0                 254.0                 287.0   \n",
       "\n",
       "   Below_average_income  Above_average_income  Above_average_income  \\\n",
       "0                 485.0                 404.0                 392.0   \n",
       "1                 400.0                 278.0                 125.0   \n",
       "\n",
       "   Above_average_income state county   tract  \n",
       "0                 928.0    11    001  002102  \n",
       "1                 427.0    11    001  002202  "
      ]
     },
     "execution_count": 34,
     "metadata": {},
     "output_type": "execute_result"
    }
   ],
   "source": [
    "dc_df.head(2)"
   ]
  },
  {
   "cell_type": "markdown",
   "metadata": {
    "deletable": false,
    "editable": false,
    "nbgrader": {
     "cell_type": "markdown",
     "checksum": "d568673ea247e474d1e4cdf517102604",
     "grade": false,
     "grade_id": "cell-9fa970823f2f32e2vega",
     "locked": true,
     "points": 2.5,
     "schema_version": 3,
     "solution": false,
     "task": true
    }
   },
   "source": [
    "### Linking Files\n",
    "- Linking census data to tiger shapefiles \n",
    "- Creating new variables percentages \n",
    "- Joining census and DC Open Data variables using overlays \n"
   ]
  },
  {
   "cell_type": "code",
   "execution_count": 35,
   "metadata": {},
   "outputs": [],
   "source": [
    "# create a new copy of data of interest. \n",
    "dc_df = dc_df.copy()"
   ]
  },
  {
   "cell_type": "code",
   "execution_count": 36,
   "metadata": {
    "scrolled": true
   },
   "outputs": [],
   "source": [
    "# Create variable GEOID \n",
    "dc_df.loc[:,\"GEOID\"] = dc_df[\"state\"] + dc_df[\"county\"] + dc_df[\"tract\"]\n",
    "#dc_df[\"GEOID\"] "
   ]
  },
  {
   "cell_type": "code",
   "execution_count": 37,
   "metadata": {
    "scrolled": true
   },
   "outputs": [
    {
     "data": {
      "text/html": [
       "<div>\n",
       "<style scoped>\n",
       "    .dataframe tbody tr th:only-of-type {\n",
       "        vertical-align: middle;\n",
       "    }\n",
       "\n",
       "    .dataframe tbody tr th {\n",
       "        vertical-align: top;\n",
       "    }\n",
       "\n",
       "    .dataframe thead th {\n",
       "        text-align: right;\n",
       "    }\n",
       "</style>\n",
       "<table border=\"1\" class=\"dataframe\">\n",
       "  <thead>\n",
       "    <tr style=\"text-align: right;\">\n",
       "      <th></th>\n",
       "      <th>STATEFP</th>\n",
       "      <th>COUNTYFP</th>\n",
       "      <th>TRACTCE</th>\n",
       "      <th>GEOID</th>\n",
       "      <th>NAME</th>\n",
       "      <th>NAMELSAD</th>\n",
       "      <th>MTFCC</th>\n",
       "      <th>FUNCSTAT</th>\n",
       "      <th>ALAND</th>\n",
       "      <th>AWATER</th>\n",
       "      <th>INTPTLAT</th>\n",
       "      <th>INTPTLON</th>\n",
       "      <th>geometry</th>\n",
       "    </tr>\n",
       "  </thead>\n",
       "  <tbody>\n",
       "    <tr>\n",
       "      <th>0</th>\n",
       "      <td>11</td>\n",
       "      <td>001</td>\n",
       "      <td>010900</td>\n",
       "      <td>11001010900</td>\n",
       "      <td>109</td>\n",
       "      <td>Census Tract 109</td>\n",
       "      <td>G5020</td>\n",
       "      <td>S</td>\n",
       "      <td>2379832</td>\n",
       "      <td>2936613</td>\n",
       "      <td>+38.8132450</td>\n",
       "      <td>-077.0238468</td>\n",
       "      <td>POLYGON ((-77.03919 38.80050, -77.03913 38.800...</td>\n",
       "    </tr>\n",
       "    <tr>\n",
       "      <th>1</th>\n",
       "      <td>11</td>\n",
       "      <td>001</td>\n",
       "      <td>010400</td>\n",
       "      <td>11001010400</td>\n",
       "      <td>104</td>\n",
       "      <td>Census Tract 104</td>\n",
       "      <td>G5020</td>\n",
       "      <td>S</td>\n",
       "      <td>2744444</td>\n",
       "      <td>83</td>\n",
       "      <td>+38.8499425</td>\n",
       "      <td>-077.0004103</td>\n",
       "      <td>POLYGON ((-77.00919 38.83918, -77.00915 38.839...</td>\n",
       "    </tr>\n",
       "  </tbody>\n",
       "</table>\n",
       "</div>"
      ],
      "text/plain": [
       "  STATEFP COUNTYFP TRACTCE        GEOID NAME          NAMELSAD  MTFCC  \\\n",
       "0      11      001  010900  11001010900  109  Census Tract 109  G5020   \n",
       "1      11      001  010400  11001010400  104  Census Tract 104  G5020   \n",
       "\n",
       "  FUNCSTAT    ALAND   AWATER     INTPTLAT      INTPTLON  \\\n",
       "0        S  2379832  2936613  +38.8132450  -077.0238468   \n",
       "1        S  2744444       83  +38.8499425  -077.0004103   \n",
       "\n",
       "                                            geometry  \n",
       "0  POLYGON ((-77.03919 38.80050, -77.03913 38.800...  \n",
       "1  POLYGON ((-77.00919 38.83918, -77.00915 38.839...  "
      ]
     },
     "execution_count": 37,
     "metadata": {},
     "output_type": "execute_result"
    }
   ],
   "source": [
    "# LOOK AT THE LECTURE AND THE \n",
    "# CENSUS POLYGON DATA\n",
    "#import geopandas as gpd\n",
    "dc_shp = gpd.read_file('data/tl_2017_11_tract.shp')\n",
    "dc_shp.head(2)\n",
    "# JOIN THIS CENSUS DATA TO YOUR CENSUS DATA "
   ]
  },
  {
   "cell_type": "code",
   "execution_count": 38,
   "metadata": {
    "scrolled": false
   },
   "outputs": [
    {
     "data": {
      "text/html": [
       "<div>\n",
       "<style scoped>\n",
       "    .dataframe tbody tr th:only-of-type {\n",
       "        vertical-align: middle;\n",
       "    }\n",
       "\n",
       "    .dataframe tbody tr th {\n",
       "        vertical-align: top;\n",
       "    }\n",
       "\n",
       "    .dataframe thead th {\n",
       "        text-align: right;\n",
       "    }\n",
       "</style>\n",
       "<table border=\"1\" class=\"dataframe\">\n",
       "  <thead>\n",
       "    <tr style=\"text-align: right;\">\n",
       "      <th></th>\n",
       "      <th>STATEFP</th>\n",
       "      <th>COUNTYFP</th>\n",
       "      <th>TRACTCE</th>\n",
       "      <th>GEOID</th>\n",
       "      <th>NAME_x</th>\n",
       "      <th>NAMELSAD</th>\n",
       "      <th>MTFCC</th>\n",
       "      <th>FUNCSTAT</th>\n",
       "      <th>ALAND</th>\n",
       "      <th>AWATER</th>\n",
       "      <th>...</th>\n",
       "      <th>Below_average_income</th>\n",
       "      <th>Below_average_income</th>\n",
       "      <th>Below_average_income</th>\n",
       "      <th>Below_average_income</th>\n",
       "      <th>Above_average_income</th>\n",
       "      <th>Above_average_income</th>\n",
       "      <th>Above_average_income</th>\n",
       "      <th>state</th>\n",
       "      <th>county</th>\n",
       "      <th>tract</th>\n",
       "    </tr>\n",
       "  </thead>\n",
       "  <tbody>\n",
       "    <tr>\n",
       "      <th>0</th>\n",
       "      <td>11</td>\n",
       "      <td>001</td>\n",
       "      <td>010900</td>\n",
       "      <td>11001010900</td>\n",
       "      <td>109</td>\n",
       "      <td>Census Tract 109</td>\n",
       "      <td>G5020</td>\n",
       "      <td>S</td>\n",
       "      <td>2379832</td>\n",
       "      <td>2936613</td>\n",
       "      <td>...</td>\n",
       "      <td>367.0</td>\n",
       "      <td>197.0</td>\n",
       "      <td>219.0</td>\n",
       "      <td>348.0</td>\n",
       "      <td>203.0</td>\n",
       "      <td>21.0</td>\n",
       "      <td>115.0</td>\n",
       "      <td>11</td>\n",
       "      <td>001</td>\n",
       "      <td>010900</td>\n",
       "    </tr>\n",
       "    <tr>\n",
       "      <th>1</th>\n",
       "      <td>11</td>\n",
       "      <td>001</td>\n",
       "      <td>010400</td>\n",
       "      <td>11001010400</td>\n",
       "      <td>104</td>\n",
       "      <td>Census Tract 104</td>\n",
       "      <td>G5020</td>\n",
       "      <td>S</td>\n",
       "      <td>2744444</td>\n",
       "      <td>83</td>\n",
       "      <td>...</td>\n",
       "      <td>255.0</td>\n",
       "      <td>322.0</td>\n",
       "      <td>371.0</td>\n",
       "      <td>502.0</td>\n",
       "      <td>188.0</td>\n",
       "      <td>81.0</td>\n",
       "      <td>200.0</td>\n",
       "      <td>11</td>\n",
       "      <td>001</td>\n",
       "      <td>010400</td>\n",
       "    </tr>\n",
       "    <tr>\n",
       "      <th>2</th>\n",
       "      <td>11</td>\n",
       "      <td>001</td>\n",
       "      <td>009903</td>\n",
       "      <td>11001009903</td>\n",
       "      <td>99.03</td>\n",
       "      <td>Census Tract 99.03</td>\n",
       "      <td>G5020</td>\n",
       "      <td>S</td>\n",
       "      <td>383679</td>\n",
       "      <td>0</td>\n",
       "      <td>...</td>\n",
       "      <td>109.0</td>\n",
       "      <td>222.0</td>\n",
       "      <td>140.0</td>\n",
       "      <td>84.0</td>\n",
       "      <td>162.0</td>\n",
       "      <td>114.0</td>\n",
       "      <td>221.0</td>\n",
       "      <td>11</td>\n",
       "      <td>001</td>\n",
       "      <td>009903</td>\n",
       "    </tr>\n",
       "    <tr>\n",
       "      <th>3</th>\n",
       "      <td>11</td>\n",
       "      <td>001</td>\n",
       "      <td>009904</td>\n",
       "      <td>11001009904</td>\n",
       "      <td>99.04</td>\n",
       "      <td>Census Tract 99.04</td>\n",
       "      <td>G5020</td>\n",
       "      <td>S</td>\n",
       "      <td>426198</td>\n",
       "      <td>0</td>\n",
       "      <td>...</td>\n",
       "      <td>108.0</td>\n",
       "      <td>251.0</td>\n",
       "      <td>215.0</td>\n",
       "      <td>223.0</td>\n",
       "      <td>160.0</td>\n",
       "      <td>24.0</td>\n",
       "      <td>200.0</td>\n",
       "      <td>11</td>\n",
       "      <td>001</td>\n",
       "      <td>009904</td>\n",
       "    </tr>\n",
       "    <tr>\n",
       "      <th>4</th>\n",
       "      <td>11</td>\n",
       "      <td>001</td>\n",
       "      <td>009905</td>\n",
       "      <td>11001009905</td>\n",
       "      <td>99.05</td>\n",
       "      <td>Census Tract 99.05</td>\n",
       "      <td>G5020</td>\n",
       "      <td>S</td>\n",
       "      <td>431557</td>\n",
       "      <td>0</td>\n",
       "      <td>...</td>\n",
       "      <td>169.0</td>\n",
       "      <td>238.0</td>\n",
       "      <td>203.0</td>\n",
       "      <td>271.0</td>\n",
       "      <td>229.0</td>\n",
       "      <td>30.0</td>\n",
       "      <td>189.0</td>\n",
       "      <td>11</td>\n",
       "      <td>001</td>\n",
       "      <td>009905</td>\n",
       "    </tr>\n",
       "  </tbody>\n",
       "</table>\n",
       "<p>5 rows × 25 columns</p>\n",
       "</div>"
      ],
      "text/plain": [
       "  STATEFP COUNTYFP TRACTCE        GEOID NAME_x            NAMELSAD  MTFCC  \\\n",
       "0      11      001  010900  11001010900    109    Census Tract 109  G5020   \n",
       "1      11      001  010400  11001010400    104    Census Tract 104  G5020   \n",
       "2      11      001  009903  11001009903  99.03  Census Tract 99.03  G5020   \n",
       "3      11      001  009904  11001009904  99.04  Census Tract 99.04  G5020   \n",
       "4      11      001  009905  11001009905  99.05  Census Tract 99.05  G5020   \n",
       "\n",
       "  FUNCSTAT    ALAND   AWATER  ... Below_average_income Below_average_income  \\\n",
       "0        S  2379832  2936613  ...                367.0                197.0   \n",
       "1        S  2744444       83  ...                255.0                322.0   \n",
       "2        S   383679        0  ...                109.0                222.0   \n",
       "3        S   426198        0  ...                108.0                251.0   \n",
       "4        S   431557        0  ...                169.0                238.0   \n",
       "\n",
       "  Below_average_income Below_average_income  Above_average_income  \\\n",
       "0                219.0                348.0                 203.0   \n",
       "1                371.0                502.0                 188.0   \n",
       "2                140.0                 84.0                 162.0   \n",
       "3                215.0                223.0                 160.0   \n",
       "4                203.0                271.0                 229.0   \n",
       "\n",
       "   Above_average_income  Above_average_income  state  county   tract  \n",
       "0                  21.0                 115.0     11     001  010900  \n",
       "1                  81.0                 200.0     11     001  010400  \n",
       "2                 114.0                 221.0     11     001  009903  \n",
       "3                  24.0                 200.0     11     001  009904  \n",
       "4                  30.0                 189.0     11     001  009905  \n",
       "\n",
       "[5 rows x 25 columns]"
      ]
     },
     "execution_count": 38,
     "metadata": {},
     "output_type": "execute_result"
    }
   ],
   "source": [
    "dc_join = dc_shp.merge(right=dc_df, how='left',on='GEOID', validate='one_to_one')\n",
    "dc_join.head()"
   ]
  },
  {
   "cell_type": "code",
   "execution_count": 39,
   "metadata": {},
   "outputs": [],
   "source": [
    "dc_join.drop(columns = ['STATEFP', 'COUNTYFP', 'TRACTCE','NAME_x','NAMELSAD',\n",
    "       'MTFCC', 'FUNCSTAT', 'ALAND', 'AWATER', 'INTPTLAT', 'INTPTLON'], inplace = True)"
   ]
  },
  {
   "cell_type": "code",
   "execution_count": 40,
   "metadata": {
    "scrolled": true
   },
   "outputs": [],
   "source": [
    "dc_join['Total_Below_average_income'] = dc_join.iloc[:,3:8].sum(axis = 1)"
   ]
  },
  {
   "cell_type": "code",
   "execution_count": 41,
   "metadata": {},
   "outputs": [],
   "source": [
    "dc_join['Total_Above_average_income'] = dc_join.iloc[:,8:11].sum(axis = 1)"
   ]
  },
  {
   "cell_type": "code",
   "execution_count": 42,
   "metadata": {},
   "outputs": [],
   "source": [
    "dc_join.drop(['Below_average_income','Above_average_income'], axis = 1, inplace = True)"
   ]
  },
  {
   "cell_type": "code",
   "execution_count": 43,
   "metadata": {},
   "outputs": [],
   "source": [
    "dc_join.to_crs('EPSG:32618', inplace =True) #maybe to early to reproject"
   ]
  },
  {
   "cell_type": "code",
   "execution_count": 44,
   "metadata": {},
   "outputs": [
    {
     "data": {
      "text/html": [
       "<div>\n",
       "<style scoped>\n",
       "    .dataframe tbody tr th:only-of-type {\n",
       "        vertical-align: middle;\n",
       "    }\n",
       "\n",
       "    .dataframe tbody tr th {\n",
       "        vertical-align: top;\n",
       "    }\n",
       "\n",
       "    .dataframe thead th {\n",
       "        text-align: right;\n",
       "    }\n",
       "</style>\n",
       "<table border=\"1\" class=\"dataframe\">\n",
       "  <thead>\n",
       "    <tr style=\"text-align: right;\">\n",
       "      <th></th>\n",
       "      <th>GEOID</th>\n",
       "      <th>geometry</th>\n",
       "      <th>NAME_y</th>\n",
       "      <th>state</th>\n",
       "      <th>county</th>\n",
       "      <th>tract</th>\n",
       "      <th>Total_Below_average_income</th>\n",
       "      <th>Total_Above_average_income</th>\n",
       "    </tr>\n",
       "  </thead>\n",
       "  <tbody>\n",
       "    <tr>\n",
       "      <th>0</th>\n",
       "      <td>11001010900</td>\n",
       "      <td>POLYGON ((322919.967 4296612.825, 322926.059 4...</td>\n",
       "      <td>Census Tract 109, District of Columbia, Distri...</td>\n",
       "      <td>11</td>\n",
       "      <td>001</td>\n",
       "      <td>010900</td>\n",
       "      <td>2392.0</td>\n",
       "      <td>339.0</td>\n",
       "    </tr>\n",
       "    <tr>\n",
       "      <th>1</th>\n",
       "      <td>11001010400</td>\n",
       "      <td>POLYGON ((325619.776 4300848.811, 325623.827 4...</td>\n",
       "      <td>Census Tract 104, District of Columbia, Distri...</td>\n",
       "      <td>11</td>\n",
       "      <td>001</td>\n",
       "      <td>010400</td>\n",
       "      <td>2328.0</td>\n",
       "      <td>469.0</td>\n",
       "    </tr>\n",
       "  </tbody>\n",
       "</table>\n",
       "</div>"
      ],
      "text/plain": [
       "         GEOID                                           geometry  \\\n",
       "0  11001010900  POLYGON ((322919.967 4296612.825, 322926.059 4...   \n",
       "1  11001010400  POLYGON ((325619.776 4300848.811, 325623.827 4...   \n",
       "\n",
       "                                              NAME_y state county   tract  \\\n",
       "0  Census Tract 109, District of Columbia, Distri...    11    001  010900   \n",
       "1  Census Tract 104, District of Columbia, Distri...    11    001  010400   \n",
       "\n",
       "   Total_Below_average_income  Total_Above_average_income  \n",
       "0                      2392.0                       339.0  \n",
       "1                      2328.0                       469.0  "
      ]
     },
     "execution_count": 44,
     "metadata": {},
     "output_type": "execute_result"
    }
   ],
   "source": [
    "dc_join.head(2)"
   ]
  },
  {
   "cell_type": "code",
   "execution_count": 45,
   "metadata": {},
   "outputs": [
    {
     "name": "stdout",
     "output_type": "stream",
     "text": [
      "Requirement already satisfied: mapclassify in /opt/conda/lib/python3.9/site-packages (2.4.3)\n",
      "Requirement already satisfied: networkx in /opt/conda/lib/python3.9/site-packages (from mapclassify) (2.6.3)\n",
      "Requirement already satisfied: scipy>=1.0 in /opt/conda/lib/python3.9/site-packages (from mapclassify) (1.7.3)\n",
      "Requirement already satisfied: numpy>=1.3 in /opt/conda/lib/python3.9/site-packages (from mapclassify) (1.22.0)\n",
      "Requirement already satisfied: scikit-learn in /opt/conda/lib/python3.9/site-packages (from mapclassify) (1.0.1)\n",
      "Requirement already satisfied: pandas>=1.0 in /opt/conda/lib/python3.9/site-packages (from mapclassify) (1.3.4)\n",
      "Requirement already satisfied: python-dateutil>=2.7.3 in /opt/conda/lib/python3.9/site-packages (from pandas>=1.0->mapclassify) (2.8.2)\n",
      "Requirement already satisfied: pytz>=2017.3 in /opt/conda/lib/python3.9/site-packages (from pandas>=1.0->mapclassify) (2021.3)\n",
      "Requirement already satisfied: joblib>=0.11 in /opt/conda/lib/python3.9/site-packages (from scikit-learn->mapclassify) (1.1.0)\n",
      "Requirement already satisfied: threadpoolctl>=2.0.0 in /opt/conda/lib/python3.9/site-packages (from scikit-learn->mapclassify) (3.0.0)\n",
      "Requirement already satisfied: six>=1.5 in /opt/conda/lib/python3.9/site-packages (from python-dateutil>=2.7.3->pandas>=1.0->mapclassify) (1.16.0)\n",
      "Requirement already satisfied: contextily in /opt/conda/lib/python3.9/site-packages (1.2.0)\n",
      "Requirement already satisfied: pillow in /opt/conda/lib/python3.9/site-packages (from contextily) (8.4.0)\n",
      "Requirement already satisfied: rasterio in /opt/conda/lib/python3.9/site-packages (from contextily) (1.2.6)\n",
      "Requirement already satisfied: matplotlib in /opt/conda/lib/python3.9/site-packages (from contextily) (3.5.0)\n",
      "Requirement already satisfied: geopy in /opt/conda/lib/python3.9/site-packages (from contextily) (2.2.0)\n",
      "Requirement already satisfied: xyzservices in /opt/conda/lib/python3.9/site-packages (from contextily) (2022.2.0)\n",
      "Requirement already satisfied: requests in /opt/conda/lib/python3.9/site-packages (from contextily) (2.27.1)\n",
      "Requirement already satisfied: joblib in /opt/conda/lib/python3.9/site-packages (from contextily) (1.1.0)\n",
      "Requirement already satisfied: mercantile in /opt/conda/lib/python3.9/site-packages (from contextily) (1.2.1)\n",
      "Requirement already satisfied: geographiclib<2,>=1.49 in /opt/conda/lib/python3.9/site-packages (from geopy->contextily) (1.52)\n",
      "Requirement already satisfied: numpy>=1.17 in /opt/conda/lib/python3.9/site-packages (from matplotlib->contextily) (1.22.0)\n",
      "Requirement already satisfied: cycler>=0.10 in /opt/conda/lib/python3.9/site-packages (from matplotlib->contextily) (0.11.0)\n",
      "Requirement already satisfied: pyparsing>=2.2.1 in /opt/conda/lib/python3.9/site-packages (from matplotlib->contextily) (3.0.6)\n",
      "Requirement already satisfied: kiwisolver>=1.0.1 in /opt/conda/lib/python3.9/site-packages (from matplotlib->contextily) (1.3.2)\n",
      "Requirement already satisfied: fonttools>=4.22.0 in /opt/conda/lib/python3.9/site-packages (from matplotlib->contextily) (4.28.1)\n",
      "Requirement already satisfied: packaging>=20.0 in /opt/conda/lib/python3.9/site-packages (from matplotlib->contextily) (21.3)\n",
      "Requirement already satisfied: python-dateutil>=2.7 in /opt/conda/lib/python3.9/site-packages (from matplotlib->contextily) (2.8.2)\n",
      "Requirement already satisfied: click>=3.0 in /opt/conda/lib/python3.9/site-packages (from mercantile->contextily) (8.0.3)\n",
      "Requirement already satisfied: affine in /opt/conda/lib/python3.9/site-packages (from rasterio->contextily) (2.3.0)\n",
      "Requirement already satisfied: attrs in /opt/conda/lib/python3.9/site-packages (from rasterio->contextily) (21.2.0)\n",
      "Requirement already satisfied: snuggs>=1.4.1 in /opt/conda/lib/python3.9/site-packages (from rasterio->contextily) (1.4.7)\n",
      "Requirement already satisfied: click-plugins in /opt/conda/lib/python3.9/site-packages (from rasterio->contextily) (1.1.1)\n",
      "Requirement already satisfied: cligj>=0.5 in /opt/conda/lib/python3.9/site-packages (from rasterio->contextily) (0.7.2)\n",
      "Requirement already satisfied: setuptools in /opt/conda/lib/python3.9/site-packages (from rasterio->contextily) (59.2.0)\n",
      "Requirement already satisfied: certifi in /opt/conda/lib/python3.9/site-packages (from rasterio->contextily) (2021.10.8)\n",
      "Requirement already satisfied: idna<4,>=2.5 in /opt/conda/lib/python3.9/site-packages (from requests->contextily) (3.1)\n",
      "Requirement already satisfied: urllib3<1.27,>=1.21.1 in /opt/conda/lib/python3.9/site-packages (from requests->contextily) (1.26.7)\n",
      "Requirement already satisfied: charset-normalizer~=2.0.0 in /opt/conda/lib/python3.9/site-packages (from requests->contextily) (2.0.0)\n",
      "Requirement already satisfied: six>=1.5 in /opt/conda/lib/python3.9/site-packages (from python-dateutil>=2.7->matplotlib->contextily) (1.16.0)\n"
     ]
    }
   ],
   "source": [
    "! pip install mapclassify\n",
    "! pip install contextily\n",
    "# import modules for mapping\n",
    "import numpy as np \n",
    "import matplotlib.pyplot as plt \n",
    "import contextily as cx \n"
   ]
  },
  {
   "cell_type": "code",
   "execution_count": 46,
   "metadata": {},
   "outputs": [],
   "source": [
    "\n",
    "dc_join['Percentage']  = ((dc_join['Total_Above_average_income'] - dc_join['Total_Below_average_income'])/(dc_join['Total_Below_average_income'] + dc_join['Total_Above_average_income']))*100"
   ]
  },
  {
   "cell_type": "code",
   "execution_count": 47,
   "metadata": {
    "scrolled": true
   },
   "outputs": [
    {
     "data": {
      "text/html": [
       "<div>\n",
       "<style scoped>\n",
       "    .dataframe tbody tr th:only-of-type {\n",
       "        vertical-align: middle;\n",
       "    }\n",
       "\n",
       "    .dataframe tbody tr th {\n",
       "        vertical-align: top;\n",
       "    }\n",
       "\n",
       "    .dataframe thead th {\n",
       "        text-align: right;\n",
       "    }\n",
       "</style>\n",
       "<table border=\"1\" class=\"dataframe\">\n",
       "  <thead>\n",
       "    <tr style=\"text-align: right;\">\n",
       "      <th></th>\n",
       "      <th>GEOID</th>\n",
       "      <th>geometry</th>\n",
       "      <th>NAME_y</th>\n",
       "      <th>state</th>\n",
       "      <th>county</th>\n",
       "      <th>tract</th>\n",
       "      <th>Total_Below_average_income</th>\n",
       "      <th>Total_Above_average_income</th>\n",
       "      <th>Percentage</th>\n",
       "    </tr>\n",
       "  </thead>\n",
       "  <tbody>\n",
       "    <tr>\n",
       "      <th>0</th>\n",
       "      <td>11001010900</td>\n",
       "      <td>POLYGON ((322919.967 4296612.825, 322926.059 4...</td>\n",
       "      <td>Census Tract 109, District of Columbia, Distri...</td>\n",
       "      <td>11</td>\n",
       "      <td>001</td>\n",
       "      <td>010900</td>\n",
       "      <td>2392.0</td>\n",
       "      <td>339.0</td>\n",
       "      <td>-75.173929</td>\n",
       "    </tr>\n",
       "    <tr>\n",
       "      <th>1</th>\n",
       "      <td>11001010400</td>\n",
       "      <td>POLYGON ((325619.776 4300848.811, 325623.827 4...</td>\n",
       "      <td>Census Tract 104, District of Columbia, Distri...</td>\n",
       "      <td>11</td>\n",
       "      <td>001</td>\n",
       "      <td>010400</td>\n",
       "      <td>2328.0</td>\n",
       "      <td>469.0</td>\n",
       "      <td>-66.464069</td>\n",
       "    </tr>\n",
       "  </tbody>\n",
       "</table>\n",
       "</div>"
      ],
      "text/plain": [
       "         GEOID                                           geometry  \\\n",
       "0  11001010900  POLYGON ((322919.967 4296612.825, 322926.059 4...   \n",
       "1  11001010400  POLYGON ((325619.776 4300848.811, 325623.827 4...   \n",
       "\n",
       "                                              NAME_y state county   tract  \\\n",
       "0  Census Tract 109, District of Columbia, Distri...    11    001  010900   \n",
       "1  Census Tract 104, District of Columbia, Distri...    11    001  010400   \n",
       "\n",
       "   Total_Below_average_income  Total_Above_average_income  Percentage  \n",
       "0                      2392.0                       339.0  -75.173929  \n",
       "1                      2328.0                       469.0  -66.464069  "
      ]
     },
     "execution_count": 47,
     "metadata": {},
     "output_type": "execute_result"
    }
   ],
   "source": [
    "dc_join.head(2)"
   ]
  },
  {
   "cell_type": "markdown",
   "metadata": {
    "deletable": false,
    "editable": false,
    "nbgrader": {
     "cell_type": "markdown",
     "checksum": "528905effc721bc40bb49d02c3c78bb4",
     "grade": false,
     "grade_id": "cell-b4bcbc23qv34ggadg34",
     "locked": true,
     "points": 2.5,
     "schema_version": 3,
     "solution": false,
     "task": true
    }
   },
   "source": [
    "### Maps\n",
    "- Creating a map \n"
   ]
  },
  {
   "cell_type": "code",
   "execution_count": 48,
   "metadata": {},
   "outputs": [
    {
     "data": {
      "text/plain": [
       "<AxesSubplot:>"
      ]
     },
     "execution_count": 48,
     "metadata": {},
     "output_type": "execute_result"
    },
    {
     "data": {
      "image/png": "[encoded data removed]",
      "text/plain": [
       "<Figure size 432x288 with 1 Axes>"
      ]
     },
     "metadata": {
      "needs_background": "light"
     },
     "output_type": "display_data"
    }
   ],
   "source": [
    "dc_join['Percentage'].hist()"
   ]
  },
  {
   "cell_type": "code",
   "execution_count": 49,
   "metadata": {
    "scrolled": false
   },
   "outputs": [
    {
     "data": {
      "text/html": [
       "<div>\n",
       "<style scoped>\n",
       "    .dataframe tbody tr th:only-of-type {\n",
       "        vertical-align: middle;\n",
       "    }\n",
       "\n",
       "    .dataframe tbody tr th {\n",
       "        vertical-align: top;\n",
       "    }\n",
       "\n",
       "    .dataframe thead th {\n",
       "        text-align: right;\n",
       "    }\n",
       "</style>\n",
       "<table border=\"1\" class=\"dataframe\">\n",
       "  <thead>\n",
       "    <tr style=\"text-align: right;\">\n",
       "      <th></th>\n",
       "      <th>EGIS_ID</th>\n",
       "      <th>REG_ID</th>\n",
       "      <th>BSTP_GEO_ID</th>\n",
       "      <th>BSTP_OPS_TCD</th>\n",
       "      <th>BSTP_TCD</th>\n",
       "      <th>AT_STR</th>\n",
       "      <th>ON_STR</th>\n",
       "      <th>GIS_ID</th>\n",
       "      <th>GLOBALID</th>\n",
       "      <th>geometry</th>\n",
       "      <th>index_right</th>\n",
       "      <th>GEOID</th>\n",
       "      <th>NAME_y</th>\n",
       "      <th>state</th>\n",
       "      <th>county</th>\n",
       "      <th>tract</th>\n",
       "      <th>Total_Below_average_income</th>\n",
       "      <th>Total_Above_average_income</th>\n",
       "      <th>Percentage</th>\n",
       "    </tr>\n",
       "  </thead>\n",
       "  <tbody>\n",
       "    <tr>\n",
       "      <th>1569</th>\n",
       "      <td>1308410</td>\n",
       "      <td>1003415</td>\n",
       "      <td>15231</td>\n",
       "      <td>PRS</td>\n",
       "      <td>REV</td>\n",
       "      <td>EASTERN AVE</td>\n",
       "      <td>16TH ST NW</td>\n",
       "      <td>BusStopPt_4871</td>\n",
       "      <td>{EB214A63-80A0-4E17-9A27-3FCAD8842574}</td>\n",
       "      <td>POINT (323658.307 4317828.500)</td>\n",
       "      <td>73</td>\n",
       "      <td>11001001600</td>\n",
       "      <td>Census Tract 16, District of Columbia, Distric...</td>\n",
       "      <td>11</td>\n",
       "      <td>001</td>\n",
       "      <td>001600</td>\n",
       "      <td>1195.0</td>\n",
       "      <td>2077.0</td>\n",
       "      <td>26.95599</td>\n",
       "    </tr>\n",
       "    <tr>\n",
       "      <th>1572</th>\n",
       "      <td>1308549</td>\n",
       "      <td>1002883</td>\n",
       "      <td>11786</td>\n",
       "      <td>PRS</td>\n",
       "      <td>REV</td>\n",
       "      <td>16TH ST NW</td>\n",
       "      <td>EASTERN AVE NW</td>\n",
       "      <td>BusStopPt_1612</td>\n",
       "      <td>{CCD2D6C0-094F-4B3F-B351-15F3B4339DCC}</td>\n",
       "      <td>POINT (323690.148 4317818.572)</td>\n",
       "      <td>73</td>\n",
       "      <td>11001001600</td>\n",
       "      <td>Census Tract 16, District of Columbia, Distric...</td>\n",
       "      <td>11</td>\n",
       "      <td>001</td>\n",
       "      <td>001600</td>\n",
       "      <td>1195.0</td>\n",
       "      <td>2077.0</td>\n",
       "      <td>26.95599</td>\n",
       "    </tr>\n",
       "  </tbody>\n",
       "</table>\n",
       "</div>"
      ],
      "text/plain": [
       "      EGIS_ID   REG_ID  BSTP_GEO_ID BSTP_OPS_TCD BSTP_TCD       AT_STR  \\\n",
       "1569  1308410  1003415        15231          PRS      REV  EASTERN AVE   \n",
       "1572  1308549  1002883        11786          PRS      REV   16TH ST NW   \n",
       "\n",
       "              ON_STR          GIS_ID                                GLOBALID  \\\n",
       "1569      16TH ST NW  BusStopPt_4871  {EB214A63-80A0-4E17-9A27-3FCAD8842574}   \n",
       "1572  EASTERN AVE NW  BusStopPt_1612  {CCD2D6C0-094F-4B3F-B351-15F3B4339DCC}   \n",
       "\n",
       "                            geometry  index_right        GEOID  \\\n",
       "1569  POINT (323658.307 4317828.500)           73  11001001600   \n",
       "1572  POINT (323690.148 4317818.572)           73  11001001600   \n",
       "\n",
       "                                                 NAME_y state county   tract  \\\n",
       "1569  Census Tract 16, District of Columbia, Distric...    11    001  001600   \n",
       "1572  Census Tract 16, District of Columbia, Distric...    11    001  001600   \n",
       "\n",
       "      Total_Below_average_income  Total_Above_average_income  Percentage  \n",
       "1569                      1195.0                      2077.0    26.95599  \n",
       "1572                      1195.0                      2077.0    26.95599  "
      ]
     },
     "execution_count": 49,
     "metadata": {},
     "output_type": "execute_result"
    }
   ],
   "source": [
    "# spatial join intersection \n",
    "metro_counts = gpd.sjoin(dc_metro,\n",
    "                          dc_join,\n",
    "                           how = 'inner')\n",
    "metro_counts.head(2)"
   ]
  },
  {
   "cell_type": "code",
   "execution_count": 50,
   "metadata": {
    "scrolled": true
   },
   "outputs": [],
   "source": [
    "metro_counts['count_bus'] = 1\n",
    "data_final = metro_counts.groupby('GEOID').sum()\n"
   ]
  },
  {
   "cell_type": "code",
   "execution_count": 51,
   "metadata": {},
   "outputs": [
    {
     "data": {
      "image/png": "[encoded data removed]",
      "text/plain": [
       "<Figure size 1080x1080 with 1 Axes>"
      ]
     },
     "metadata": {
      "needs_background": "light"
     },
     "output_type": "display_data"
    }
   ],
   "source": [
    "fig, ax = plt.subplots(figsize=(15, 15))  # Create a figure containing a single axes.\n",
    "ax.set_title(\"Income Range with Bus counts\")  # Add a title to the axes.\n",
    "dc_join.plot(ax=ax, column='Percentage', scheme='fisherjenkssampled', k=10, \\\n",
    "             \n",
    "             cmap='PiYG', legend=True,\n",
    "             legend_kwds={'loc': 'center left', 'bbox_to_anchor':(1,0.5),'interval': True},\n",
    "          )\n",
    "metro_counts.plot(ax=ax, color ='black', markersize= 8, marker = '*')\n",
    "plt.show()"
   ]
  },
  {
   "cell_type": "markdown",
   "metadata": {
    "deletable": false,
    "editable": false,
    "nbgrader": {
     "cell_type": "markdown",
     "checksum": "fbbfdc7ca02c44fff55bef2bd77c1e0e",
     "grade": false,
     "grade_id": "cell-69feeea87893e3ae",
     "locked": true,
     "points": 2.5,
     "schema_version": 3,
     "solution": false,
     "task": true
    }
   },
   "source": [
    "### Plots\n",
    "- Creating a plot to prove my hypothesis\n"
   ]
  },
  {
   "cell_type": "code",
   "execution_count": 52,
   "metadata": {
    "scrolled": false
   },
   "outputs": [
    {
     "data": {
      "text/html": [
       "<div>\n",
       "<style scoped>\n",
       "    .dataframe tbody tr th:only-of-type {\n",
       "        vertical-align: middle;\n",
       "    }\n",
       "\n",
       "    .dataframe tbody tr th {\n",
       "        vertical-align: top;\n",
       "    }\n",
       "\n",
       "    .dataframe thead th {\n",
       "        text-align: right;\n",
       "    }\n",
       "</style>\n",
       "<table border=\"1\" class=\"dataframe\">\n",
       "  <thead>\n",
       "    <tr style=\"text-align: right;\">\n",
       "      <th></th>\n",
       "      <th>EGIS_ID</th>\n",
       "      <th>REG_ID</th>\n",
       "      <th>BSTP_GEO_ID</th>\n",
       "      <th>index_right</th>\n",
       "      <th>Total_Below_average_income</th>\n",
       "      <th>Total_Above_average_income</th>\n",
       "      <th>Percentage</th>\n",
       "      <th>count_bus</th>\n",
       "    </tr>\n",
       "    <tr>\n",
       "      <th>GEOID</th>\n",
       "      <th></th>\n",
       "      <th></th>\n",
       "      <th></th>\n",
       "      <th></th>\n",
       "      <th></th>\n",
       "      <th></th>\n",
       "      <th></th>\n",
       "      <th></th>\n",
       "    </tr>\n",
       "  </thead>\n",
       "  <tbody>\n",
       "    <tr>\n",
       "      <th>11001000100</th>\n",
       "      <td>45764914</td>\n",
       "      <td>35052054</td>\n",
       "      <td>286248</td>\n",
       "      <td>4060</td>\n",
       "      <td>36365.0</td>\n",
       "      <td>109095.0</td>\n",
       "      <td>1750.000000</td>\n",
       "      <td>35</td>\n",
       "    </tr>\n",
       "    <tr>\n",
       "      <th>11001000201</th>\n",
       "      <td>6531024</td>\n",
       "      <td>5007574</td>\n",
       "      <td>44743</td>\n",
       "      <td>275</td>\n",
       "      <td>14355.0</td>\n",
       "      <td>75.0</td>\n",
       "      <td>-494.802495</td>\n",
       "      <td>5</td>\n",
       "    </tr>\n",
       "  </tbody>\n",
       "</table>\n",
       "</div>"
      ],
      "text/plain": [
       "              EGIS_ID    REG_ID  BSTP_GEO_ID  index_right  \\\n",
       "GEOID                                                       \n",
       "11001000100  45764914  35052054       286248         4060   \n",
       "11001000201   6531024   5007574        44743          275   \n",
       "\n",
       "             Total_Below_average_income  Total_Above_average_income  \\\n",
       "GEOID                                                                 \n",
       "11001000100                     36365.0                    109095.0   \n",
       "11001000201                     14355.0                        75.0   \n",
       "\n",
       "              Percentage  count_bus  \n",
       "GEOID                                \n",
       "11001000100  1750.000000         35  \n",
       "11001000201  -494.802495          5  "
      ]
     },
     "execution_count": 52,
     "metadata": {},
     "output_type": "execute_result"
    }
   ],
   "source": [
    "# Start your analysis here:\n",
    "data_final.head(2)\n"
   ]
  },
  {
   "cell_type": "code",
   "execution_count": 53,
   "metadata": {},
   "outputs": [],
   "source": [
    "# the criteria is simple if the number is negative it means there are more people with above average income and if it\n",
    "# is positive there are more people with below\n",
    "data_final['Division'] =  data_final['Percentage'].apply(lambda x : 'Above' if  x > 0 else 'Below')"
   ]
  },
  {
   "cell_type": "code",
   "execution_count": 54,
   "metadata": {
    "scrolled": true
   },
   "outputs": [
    {
     "data": {
      "text/html": [
       "<div>\n",
       "<style scoped>\n",
       "    .dataframe tbody tr th:only-of-type {\n",
       "        vertical-align: middle;\n",
       "    }\n",
       "\n",
       "    .dataframe tbody tr th {\n",
       "        vertical-align: top;\n",
       "    }\n",
       "\n",
       "    .dataframe thead th {\n",
       "        text-align: right;\n",
       "    }\n",
       "</style>\n",
       "<table border=\"1\" class=\"dataframe\">\n",
       "  <thead>\n",
       "    <tr style=\"text-align: right;\">\n",
       "      <th></th>\n",
       "      <th>EGIS_ID</th>\n",
       "      <th>REG_ID</th>\n",
       "      <th>BSTP_GEO_ID</th>\n",
       "      <th>index_right</th>\n",
       "      <th>Total_Below_average_income</th>\n",
       "      <th>Total_Above_average_income</th>\n",
       "      <th>Percentage</th>\n",
       "      <th>count_bus</th>\n",
       "      <th>Division</th>\n",
       "    </tr>\n",
       "    <tr>\n",
       "      <th>GEOID</th>\n",
       "      <th></th>\n",
       "      <th></th>\n",
       "      <th></th>\n",
       "      <th></th>\n",
       "      <th></th>\n",
       "      <th></th>\n",
       "      <th></th>\n",
       "      <th></th>\n",
       "      <th></th>\n",
       "    </tr>\n",
       "  </thead>\n",
       "  <tbody>\n",
       "    <tr>\n",
       "      <th>11001000100</th>\n",
       "      <td>45764914</td>\n",
       "      <td>35052054</td>\n",
       "      <td>286248</td>\n",
       "      <td>4060</td>\n",
       "      <td>36365.0</td>\n",
       "      <td>109095.0</td>\n",
       "      <td>1750.000000</td>\n",
       "      <td>35</td>\n",
       "      <td>Above</td>\n",
       "    </tr>\n",
       "    <tr>\n",
       "      <th>11001000201</th>\n",
       "      <td>6531024</td>\n",
       "      <td>5007574</td>\n",
       "      <td>44743</td>\n",
       "      <td>275</td>\n",
       "      <td>14355.0</td>\n",
       "      <td>75.0</td>\n",
       "      <td>-494.802495</td>\n",
       "      <td>5</td>\n",
       "      <td>Below</td>\n",
       "    </tr>\n",
       "  </tbody>\n",
       "</table>\n",
       "</div>"
      ],
      "text/plain": [
       "              EGIS_ID    REG_ID  BSTP_GEO_ID  index_right  \\\n",
       "GEOID                                                       \n",
       "11001000100  45764914  35052054       286248         4060   \n",
       "11001000201   6531024   5007574        44743          275   \n",
       "\n",
       "             Total_Below_average_income  Total_Above_average_income  \\\n",
       "GEOID                                                                 \n",
       "11001000100                     36365.0                    109095.0   \n",
       "11001000201                     14355.0                        75.0   \n",
       "\n",
       "              Percentage  count_bus Division  \n",
       "GEOID                                         \n",
       "11001000100  1750.000000         35    Above  \n",
       "11001000201  -494.802495          5    Below  "
      ]
     },
     "execution_count": 54,
     "metadata": {},
     "output_type": "execute_result"
    }
   ],
   "source": [
    "data_final.head(2)"
   ]
  },
  {
   "cell_type": "code",
   "execution_count": 55,
   "metadata": {
    "scrolled": false
   },
   "outputs": [
    {
     "data": {
      "image/png": "[encoded data removed]",
      "text/plain": [
       "<Figure size 432x288 with 1 Axes>"
      ]
     },
     "metadata": {
      "needs_background": "light"
     },
     "output_type": "display_data"
    }
   ],
   "source": [
    "import seaborn as sns \n",
    "\n",
    "sns.barplot(data = data_final, y ='Division',x ='count_bus', ci = None)\n",
    "plt.title('Barplot of Count_Bus per Division Above AVG income & Below AVG Income')\n",
    "plt.show()"
   ]
  },
  {
   "cell_type": "code",
   "execution_count": 56,
   "metadata": {},
   "outputs": [
    {
     "data": {
      "text/plain": [
       "<seaborn.axisgrid.FacetGrid at 0x7f54945c4610>"
      ]
     },
     "execution_count": 56,
     "metadata": {},
     "output_type": "execute_result"
    },
    {
     "data": {
      "image/png": "[encoded data removed]",
      "text/plain": [
       "<Figure size 427.125x360 with 1 Axes>"
      ]
     },
     "metadata": {
      "needs_background": "light"
     },
     "output_type": "display_data"
    }
   ],
   "source": [
    "sns.displot(data_final, x = 'count_bus', hue = 'Division')"
   ]
  },
  {
   "cell_type": "markdown",
   "metadata": {},
   "source": [
    "# Result\n",
    "This Barplot shows how the Below avg income have more average buses.\n",
    "stopes compare to the Above avg income, in the histogram the distribution of buses i really similar. \n",
    "now we can reject our null hypothesis"
   ]
  },
  {
   "cell_type": "code",
   "execution_count": 57,
   "metadata": {
    "scrolled": false
   },
   "outputs": [
    {
     "data": {
      "image/png": "[encoded data removed]",
      "text/plain": [
       "<Figure size 432x288 with 1 Axes>"
      ]
     },
     "metadata": {
      "needs_background": "light"
     },
     "output_type": "display_data"
    }
   ],
   "source": [
    "sns.histplot(data= data_final, x ='count_bus')\n",
    "plt.title('Distribution of Busses Stops')\n",
    "plt.show()"
   ]
  },
  {
   "cell_type": "markdown",
   "metadata": {
    "deletable": false,
    "editable": false,
    "nbgrader": {
     "cell_type": "markdown",
     "checksum": "7ba0df3b1783b683a0c7c8dad91cfd65",
     "grade": false,
     "grade_id": "cell-55e0f223vadd2v23vdva",
     "locked": true,
     "points": 2.5,
     "schema_version": 3,
     "solution": false,
     "task": true
    }
   },
   "source": [
    "### Analysis using Quadrants\n",
    "\n",
    "- Using overlay functions to add quadrants (NE,SE,NW,SW) to your data\n"
   ]
  },
  {
   "cell_type": "code",
   "execution_count": 58,
   "metadata": {},
   "outputs": [],
   "source": [
    "def plot_overlay(overlay_type, overlay_result,column=None):\n",
    "    '''Plot the overlay result on a map and add the outlines of the original shapefiles on top.'''\n",
    "\n",
    "    # Create subplots\n",
    "    fig, ax = plt.subplots(1, 1, figsize = (10, 10))\n",
    "\n",
    "    if column is None:\n",
    "        column = overlay_result.index.values\n",
    "    # Plot overlay data\n",
    "    overlay_result.to_crs('epsg:4326').plot(ax = ax, column=column,cmap = 'Set2', edgecolor = 'black')\n",
    "\n",
    "    # Plot outlines of original shapefiles\n",
    "    #income.plot(ax = ax, color = 'none', edgecolor = 'dimgray')\n",
    "    quad.plot(ax = ax, color = 'none', edgecolor = 'dodgerblue')\n",
    "\n",
    "    # Stylize plots\n",
    "    plt.style.use('bmh')\n",
    "\n",
    "    # Set title\n",
    "    ax.set_title('Overlay Results: {0}'.format(overlay_type), fontdict = {'fontsize': '15', 'fontweight' : '3'})"
   ]
  },
  {
   "cell_type": "code",
   "execution_count": 59,
   "metadata": {},
   "outputs": [],
   "source": [
    "# Start your analysis here:\n",
    "quad = gpd.read_file('https://opendata.arcgis.com/datasets/02923e4697804406b9ee3268a160db99_11.geojson')\n",
    "quad  = quad[['QUADRANT','geometry']]\n"
   ]
  },
  {
   "cell_type": "code",
   "execution_count": 60,
   "metadata": {},
   "outputs": [
    {
     "data": {
      "text/plain": [
       "<Derived Projected CRS: EPSG:32618>\n",
       "Name: WGS 84 / UTM zone 18N\n",
       "Axis Info [cartesian]:\n",
       "- E[east]: Easting (metre)\n",
       "- N[north]: Northing (metre)\n",
       "Area of Use:\n",
       "- name: Between 78°W and 72°W, northern hemisphere between equator and 84°N, onshore and offshore. Bahamas. Canada - Nunavut; Ontario; Quebec. Colombia. Cuba. Ecuador. Greenland. Haiti. Jamica. Panama. Turks and Caicos Islands. United States (USA). Venezuela.\n",
       "- bounds: (-78.0, 0.0, -72.0, 84.0)\n",
       "Coordinate Operation:\n",
       "- name: UTM zone 18N\n",
       "- method: Transverse Mercator\n",
       "Datum: World Geodetic System 1984 ensemble\n",
       "- Ellipsoid: WGS 84\n",
       "- Prime Meridian: Greenwich"
      ]
     },
     "execution_count": 60,
     "metadata": {},
     "output_type": "execute_result"
    }
   ],
   "source": [
    "dc_join.crs"
   ]
  },
  {
   "cell_type": "code",
   "execution_count": 61,
   "metadata": {
    "scrolled": false
   },
   "outputs": [
    {
     "data": {
      "text/plain": [
       "<Geographic 2D CRS: EPSG:4326>\n",
       "Name: WGS 84\n",
       "Axis Info [ellipsoidal]:\n",
       "- Lat[north]: Geodetic latitude (degree)\n",
       "- Lon[east]: Geodetic longitude (degree)\n",
       "Area of Use:\n",
       "- name: World.\n",
       "- bounds: (-180.0, -90.0, 180.0, 90.0)\n",
       "Datum: World Geodetic System 1984 ensemble\n",
       "- Ellipsoid: WGS 84\n",
       "- Prime Meridian: Greenwich"
      ]
     },
     "execution_count": 61,
     "metadata": {},
     "output_type": "execute_result"
    }
   ],
   "source": [
    "quad.crs"
   ]
  },
  {
   "cell_type": "code",
   "execution_count": 62,
   "metadata": {},
   "outputs": [
    {
     "data": {
      "text/html": [
       "<div>\n",
       "<style scoped>\n",
       "    .dataframe tbody tr th:only-of-type {\n",
       "        vertical-align: middle;\n",
       "    }\n",
       "\n",
       "    .dataframe tbody tr th {\n",
       "        vertical-align: top;\n",
       "    }\n",
       "\n",
       "    .dataframe thead th {\n",
       "        text-align: right;\n",
       "    }\n",
       "</style>\n",
       "<table border=\"1\" class=\"dataframe\">\n",
       "  <thead>\n",
       "    <tr style=\"text-align: right;\">\n",
       "      <th></th>\n",
       "      <th>QUADRANT</th>\n",
       "      <th>geometry</th>\n",
       "    </tr>\n",
       "  </thead>\n",
       "  <tbody>\n",
       "    <tr>\n",
       "      <th>0</th>\n",
       "      <td>NW</td>\n",
       "      <td>POLYGON ((-77.00859 38.94632, -77.00852 38.946...</td>\n",
       "    </tr>\n",
       "    <tr>\n",
       "      <th>1</th>\n",
       "      <td>NE</td>\n",
       "      <td>POLYGON ((-76.97755 38.94646, -76.97838 38.947...</td>\n",
       "    </tr>\n",
       "    <tr>\n",
       "      <th>2</th>\n",
       "      <td>SW</td>\n",
       "      <td>POLYGON ((-77.00907 38.88981, -77.00907 38.889...</td>\n",
       "    </tr>\n",
       "    <tr>\n",
       "      <th>3</th>\n",
       "      <td>SE</td>\n",
       "      <td>POLYGON ((-77.00544 38.88982, -77.00578 38.889...</td>\n",
       "    </tr>\n",
       "  </tbody>\n",
       "</table>\n",
       "</div>"
      ],
      "text/plain": [
       "  QUADRANT                                           geometry\n",
       "0       NW  POLYGON ((-77.00859 38.94632, -77.00852 38.946...\n",
       "1       NE  POLYGON ((-76.97755 38.94646, -76.97838 38.947...\n",
       "2       SW  POLYGON ((-77.00907 38.88981, -77.00907 38.889...\n",
       "3       SE  POLYGON ((-77.00544 38.88982, -77.00578 38.889..."
      ]
     },
     "execution_count": 62,
     "metadata": {},
     "output_type": "execute_result"
    }
   ],
   "source": [
    "quad.head()"
   ]
  },
  {
   "cell_type": "code",
   "execution_count": 63,
   "metadata": {
    "scrolled": true
   },
   "outputs": [
    {
     "data": {
      "text/html": [
       "<div>\n",
       "<style scoped>\n",
       "    .dataframe tbody tr th:only-of-type {\n",
       "        vertical-align: middle;\n",
       "    }\n",
       "\n",
       "    .dataframe tbody tr th {\n",
       "        vertical-align: top;\n",
       "    }\n",
       "\n",
       "    .dataframe thead th {\n",
       "        text-align: right;\n",
       "    }\n",
       "</style>\n",
       "<table border=\"1\" class=\"dataframe\">\n",
       "  <thead>\n",
       "    <tr style=\"text-align: right;\">\n",
       "      <th></th>\n",
       "      <th>EGIS_ID</th>\n",
       "      <th>REG_ID</th>\n",
       "      <th>BSTP_GEO_ID</th>\n",
       "      <th>BSTP_OPS_TCD</th>\n",
       "      <th>BSTP_TCD</th>\n",
       "      <th>AT_STR</th>\n",
       "      <th>ON_STR</th>\n",
       "      <th>GIS_ID</th>\n",
       "      <th>GLOBALID</th>\n",
       "      <th>index_right</th>\n",
       "      <th>...</th>\n",
       "      <th>NAME_y</th>\n",
       "      <th>state</th>\n",
       "      <th>county</th>\n",
       "      <th>tract</th>\n",
       "      <th>Total_Below_average_income</th>\n",
       "      <th>Total_Above_average_income</th>\n",
       "      <th>Percentage</th>\n",
       "      <th>count_bus</th>\n",
       "      <th>QUADRANT</th>\n",
       "      <th>geometry</th>\n",
       "    </tr>\n",
       "  </thead>\n",
       "  <tbody>\n",
       "    <tr>\n",
       "      <th>0</th>\n",
       "      <td>1308410.0</td>\n",
       "      <td>1003415.0</td>\n",
       "      <td>15231.0</td>\n",
       "      <td>PRS</td>\n",
       "      <td>REV</td>\n",
       "      <td>EASTERN AVE</td>\n",
       "      <td>16TH ST NW</td>\n",
       "      <td>BusStopPt_4871</td>\n",
       "      <td>{EB214A63-80A0-4E17-9A27-3FCAD8842574}</td>\n",
       "      <td>73.0</td>\n",
       "      <td>...</td>\n",
       "      <td>Census Tract 16, District of Columbia, Distric...</td>\n",
       "      <td>11</td>\n",
       "      <td>001</td>\n",
       "      <td>001600</td>\n",
       "      <td>1195.0</td>\n",
       "      <td>2077.0</td>\n",
       "      <td>26.95599</td>\n",
       "      <td>1.0</td>\n",
       "      <td>NW</td>\n",
       "      <td>POINT (323658.307 4317828.500)</td>\n",
       "    </tr>\n",
       "    <tr>\n",
       "      <th>1</th>\n",
       "      <td>1308549.0</td>\n",
       "      <td>1002883.0</td>\n",
       "      <td>11786.0</td>\n",
       "      <td>PRS</td>\n",
       "      <td>REV</td>\n",
       "      <td>16TH ST NW</td>\n",
       "      <td>EASTERN AVE NW</td>\n",
       "      <td>BusStopPt_1612</td>\n",
       "      <td>{CCD2D6C0-094F-4B3F-B351-15F3B4339DCC}</td>\n",
       "      <td>73.0</td>\n",
       "      <td>...</td>\n",
       "      <td>Census Tract 16, District of Columbia, Distric...</td>\n",
       "      <td>11</td>\n",
       "      <td>001</td>\n",
       "      <td>001600</td>\n",
       "      <td>1195.0</td>\n",
       "      <td>2077.0</td>\n",
       "      <td>26.95599</td>\n",
       "      <td>1.0</td>\n",
       "      <td>NW</td>\n",
       "      <td>POINT (323690.148 4317818.572)</td>\n",
       "    </tr>\n",
       "  </tbody>\n",
       "</table>\n",
       "<p>2 rows × 21 columns</p>\n",
       "</div>"
      ],
      "text/plain": [
       "     EGIS_ID     REG_ID  BSTP_GEO_ID BSTP_OPS_TCD BSTP_TCD       AT_STR  \\\n",
       "0  1308410.0  1003415.0      15231.0          PRS      REV  EASTERN AVE   \n",
       "1  1308549.0  1002883.0      11786.0          PRS      REV   16TH ST NW   \n",
       "\n",
       "           ON_STR          GIS_ID                                GLOBALID  \\\n",
       "0      16TH ST NW  BusStopPt_4871  {EB214A63-80A0-4E17-9A27-3FCAD8842574}   \n",
       "1  EASTERN AVE NW  BusStopPt_1612  {CCD2D6C0-094F-4B3F-B351-15F3B4339DCC}   \n",
       "\n",
       "   index_right  ...                                             NAME_y state  \\\n",
       "0         73.0  ...  Census Tract 16, District of Columbia, Distric...    11   \n",
       "1         73.0  ...  Census Tract 16, District of Columbia, Distric...    11   \n",
       "\n",
       "  county   tract Total_Below_average_income  Total_Above_average_income  \\\n",
       "0    001  001600                     1195.0                      2077.0   \n",
       "1    001  001600                     1195.0                      2077.0   \n",
       "\n",
       "   Percentage  count_bus  QUADRANT                        geometry  \n",
       "0    26.95599        1.0        NW  POINT (323658.307 4317828.500)  \n",
       "1    26.95599        1.0        NW  POINT (323690.148 4317818.572)  \n",
       "\n",
       "[2 rows x 21 columns]"
      ]
     },
     "execution_count": 63,
     "metadata": {},
     "output_type": "execute_result"
    }
   ],
   "source": [
    "sector_squad = gpd.overlay(metro_counts, quad.to_crs('EPSG:32618'), how ='identity')\n",
    "sector_squad.head(2)"
   ]
  },
  {
   "cell_type": "code",
   "execution_count": 64,
   "metadata": {},
   "outputs": [
    {
     "data": {
      "text/html": [
       "<div>\n",
       "<style scoped>\n",
       "    .dataframe tbody tr th:only-of-type {\n",
       "        vertical-align: middle;\n",
       "    }\n",
       "\n",
       "    .dataframe tbody tr th {\n",
       "        vertical-align: top;\n",
       "    }\n",
       "\n",
       "    .dataframe thead th {\n",
       "        text-align: right;\n",
       "    }\n",
       "</style>\n",
       "<table border=\"1\" class=\"dataframe\">\n",
       "  <thead>\n",
       "    <tr style=\"text-align: right;\">\n",
       "      <th></th>\n",
       "      <th>EGIS_ID</th>\n",
       "      <th>REG_ID</th>\n",
       "      <th>BSTP_GEO_ID</th>\n",
       "      <th>index_right</th>\n",
       "      <th>Total_Below_average_income</th>\n",
       "      <th>Total_Above_average_income</th>\n",
       "      <th>Percentage</th>\n",
       "      <th>count_bus</th>\n",
       "    </tr>\n",
       "    <tr>\n",
       "      <th>QUADRANT</th>\n",
       "      <th></th>\n",
       "      <th></th>\n",
       "      <th></th>\n",
       "      <th></th>\n",
       "      <th></th>\n",
       "      <th></th>\n",
       "      <th></th>\n",
       "      <th></th>\n",
       "    </tr>\n",
       "  </thead>\n",
       "  <tbody>\n",
       "    <tr>\n",
       "      <th>NE</th>\n",
       "      <td>1.059419e+09</td>\n",
       "      <td>8.156664e+08</td>\n",
       "      <td>8772972.0</td>\n",
       "      <td>83018.0</td>\n",
       "      <td>1385768.0</td>\n",
       "      <td>858671.0</td>\n",
       "      <td>-19628.389603</td>\n",
       "      <td>810.0</td>\n",
       "    </tr>\n",
       "    <tr>\n",
       "      <th>NW</th>\n",
       "      <td>1.874712e+09</td>\n",
       "      <td>1.439138e+09</td>\n",
       "      <td>16063814.0</td>\n",
       "      <td>145394.0</td>\n",
       "      <td>2159301.0</td>\n",
       "      <td>2606734.0</td>\n",
       "      <td>17848.733987</td>\n",
       "      <td>1433.0</td>\n",
       "    </tr>\n",
       "    <tr>\n",
       "      <th>SE</th>\n",
       "      <td>9.477495e+08</td>\n",
       "      <td>7.247550e+08</td>\n",
       "      <td>5109133.0</td>\n",
       "      <td>57001.0</td>\n",
       "      <td>1222532.0</td>\n",
       "      <td>442057.0</td>\n",
       "      <td>-35172.514367</td>\n",
       "      <td>724.0</td>\n",
       "    </tr>\n",
       "    <tr>\n",
       "      <th>SW</th>\n",
       "      <td>1.661188e+08</td>\n",
       "      <td>1.261703e+08</td>\n",
       "      <td>2211592.0</td>\n",
       "      <td>6702.0</td>\n",
       "      <td>164028.0</td>\n",
       "      <td>121164.0</td>\n",
       "      <td>-802.754786</td>\n",
       "      <td>126.0</td>\n",
       "    </tr>\n",
       "  </tbody>\n",
       "</table>\n",
       "</div>"
      ],
      "text/plain": [
       "               EGIS_ID        REG_ID  BSTP_GEO_ID  index_right  \\\n",
       "QUADRANT                                                         \n",
       "NE        1.059419e+09  8.156664e+08    8772972.0      83018.0   \n",
       "NW        1.874712e+09  1.439138e+09   16063814.0     145394.0   \n",
       "SE        9.477495e+08  7.247550e+08    5109133.0      57001.0   \n",
       "SW        1.661188e+08  1.261703e+08    2211592.0       6702.0   \n",
       "\n",
       "          Total_Below_average_income  Total_Above_average_income  \\\n",
       "QUADRANT                                                           \n",
       "NE                         1385768.0                    858671.0   \n",
       "NW                         2159301.0                   2606734.0   \n",
       "SE                         1222532.0                    442057.0   \n",
       "SW                          164028.0                    121164.0   \n",
       "\n",
       "            Percentage  count_bus  \n",
       "QUADRANT                           \n",
       "NE       -19628.389603      810.0  \n",
       "NW        17848.733987     1433.0  \n",
       "SE       -35172.514367      724.0  \n",
       "SW         -802.754786      126.0  "
      ]
     },
     "execution_count": 64,
     "metadata": {},
     "output_type": "execute_result"
    }
   ],
   "source": [
    "quadrants = sector_squad.groupby('QUADRANT').sum('count_bus')\n",
    "sector_squad.groupby('QUADRANT').sum('count_bus')"
   ]
  },
  {
   "cell_type": "code",
   "execution_count": 65,
   "metadata": {
    "scrolled": true
   },
   "outputs": [
    {
     "data": {
      "text/plain": [
       "NW    1433\n",
       "NE     810\n",
       "SE     724\n",
       "SW     126\n",
       "Name: QUADRANT, dtype: int64"
      ]
     },
     "execution_count": 65,
     "metadata": {},
     "output_type": "execute_result"
    }
   ],
   "source": [
    "sector_squad['QUADRANT'].value_counts()"
   ]
  },
  {
   "cell_type": "code",
   "execution_count": 66,
   "metadata": {},
   "outputs": [
    {
     "data": {
      "image/png": "[encoded data removed]",
      "text/plain": [
       "<Figure size 720x720 with 1 Axes>"
      ]
     },
     "metadata": {
      "needs_background": "light"
     },
     "output_type": "display_data"
    }
   ],
   "source": [
    "plot_overlay(overlay_type = \"Difference\", overlay_result = sector_squad)"
   ]
  },
  {
   "cell_type": "code",
   "execution_count": 67,
   "metadata": {
    "scrolled": true
   },
   "outputs": [
    {
     "data": {
      "text/html": [
       "<div>\n",
       "<style scoped>\n",
       "    .dataframe tbody tr th:only-of-type {\n",
       "        vertical-align: middle;\n",
       "    }\n",
       "\n",
       "    .dataframe tbody tr th {\n",
       "        vertical-align: top;\n",
       "    }\n",
       "\n",
       "    .dataframe thead th {\n",
       "        text-align: right;\n",
       "    }\n",
       "</style>\n",
       "<table border=\"1\" class=\"dataframe\">\n",
       "  <thead>\n",
       "    <tr style=\"text-align: right;\">\n",
       "      <th></th>\n",
       "      <th>EGIS_ID</th>\n",
       "      <th>REG_ID</th>\n",
       "      <th>BSTP_GEO_ID</th>\n",
       "      <th>index_right</th>\n",
       "      <th>Total_Below_average_income</th>\n",
       "      <th>Total_Above_average_income</th>\n",
       "      <th>Percentage</th>\n",
       "      <th>count_bus</th>\n",
       "    </tr>\n",
       "    <tr>\n",
       "      <th>QUADRANT</th>\n",
       "      <th></th>\n",
       "      <th></th>\n",
       "      <th></th>\n",
       "      <th></th>\n",
       "      <th></th>\n",
       "      <th></th>\n",
       "      <th></th>\n",
       "      <th></th>\n",
       "    </tr>\n",
       "  </thead>\n",
       "  <tbody>\n",
       "    <tr>\n",
       "      <th>NE</th>\n",
       "      <td>1.059419e+09</td>\n",
       "      <td>8.156664e+08</td>\n",
       "      <td>8772972.0</td>\n",
       "      <td>83018.0</td>\n",
       "      <td>1385768.0</td>\n",
       "      <td>858671.0</td>\n",
       "      <td>-19628.389603</td>\n",
       "      <td>810.0</td>\n",
       "    </tr>\n",
       "    <tr>\n",
       "      <th>NW</th>\n",
       "      <td>1.874712e+09</td>\n",
       "      <td>1.439138e+09</td>\n",
       "      <td>16063814.0</td>\n",
       "      <td>145394.0</td>\n",
       "      <td>2159301.0</td>\n",
       "      <td>2606734.0</td>\n",
       "      <td>17848.733987</td>\n",
       "      <td>1433.0</td>\n",
       "    </tr>\n",
       "    <tr>\n",
       "      <th>SE</th>\n",
       "      <td>9.477495e+08</td>\n",
       "      <td>7.247550e+08</td>\n",
       "      <td>5109133.0</td>\n",
       "      <td>57001.0</td>\n",
       "      <td>1222532.0</td>\n",
       "      <td>442057.0</td>\n",
       "      <td>-35172.514367</td>\n",
       "      <td>724.0</td>\n",
       "    </tr>\n",
       "    <tr>\n",
       "      <th>SW</th>\n",
       "      <td>1.661188e+08</td>\n",
       "      <td>1.261703e+08</td>\n",
       "      <td>2211592.0</td>\n",
       "      <td>6702.0</td>\n",
       "      <td>164028.0</td>\n",
       "      <td>121164.0</td>\n",
       "      <td>-802.754786</td>\n",
       "      <td>126.0</td>\n",
       "    </tr>\n",
       "  </tbody>\n",
       "</table>\n",
       "</div>"
      ],
      "text/plain": [
       "               EGIS_ID        REG_ID  BSTP_GEO_ID  index_right  \\\n",
       "QUADRANT                                                         \n",
       "NE        1.059419e+09  8.156664e+08    8772972.0      83018.0   \n",
       "NW        1.874712e+09  1.439138e+09   16063814.0     145394.0   \n",
       "SE        9.477495e+08  7.247550e+08    5109133.0      57001.0   \n",
       "SW        1.661188e+08  1.261703e+08    2211592.0       6702.0   \n",
       "\n",
       "          Total_Below_average_income  Total_Above_average_income  \\\n",
       "QUADRANT                                                           \n",
       "NE                         1385768.0                    858671.0   \n",
       "NW                         2159301.0                   2606734.0   \n",
       "SE                         1222532.0                    442057.0   \n",
       "SW                          164028.0                    121164.0   \n",
       "\n",
       "            Percentage  count_bus  \n",
       "QUADRANT                           \n",
       "NE       -19628.389603      810.0  \n",
       "NW        17848.733987     1433.0  \n",
       "SE       -35172.514367      724.0  \n",
       "SW         -802.754786      126.0  "
      ]
     },
     "execution_count": 67,
     "metadata": {},
     "output_type": "execute_result"
    }
   ],
   "source": [
    "quadrants"
   ]
  },
  {
   "cell_type": "code",
   "execution_count": 68,
   "metadata": {},
   "outputs": [],
   "source": [
    "quadrants = quadrants.reset_index()"
   ]
  },
  {
   "cell_type": "code",
   "execution_count": 76,
   "metadata": {},
   "outputs": [
    {
     "data": {
      "image/png": "[encoded data removed]",
      "text/plain": [
       "<Figure size 432x288 with 1 Axes>"
      ]
     },
     "metadata": {
      "needs_background": "light"
     },
     "output_type": "display_data"
    }
   ],
   "source": [
    "# Start your analysis here:\n",
    "\n",
    "import seaborn as sns \n",
    "\n",
    "sns.barplot(data = quadrants, y = 'QUADRANT', x ='count_bus', ci = None)\n",
    "plt.title('Barplot of Count_Bus per QUARANT in DC')\n",
    "plt.show()"
   ]
  },
  {
   "cell_type": "markdown",
   "metadata": {},
   "source": [
    "# Result\n",
    "As we can tell from this barplot NW has the highest access to bustops\n",
    "SW has the less access."
   ]
  }
 ],
 "metadata": {
  "kernelspec": {
   "display_name": "Python 3 (ipykernel)",
   "language": "python",
   "name": "python3"
  },
  "language_info": {
   "codemirror_mode": {
    "name": "ipython",
    "version": 3
   },
   "file_extension": ".py",
   "mimetype": "text/x-python",
   "name": "python",
   "nbconvert_exporter": "python",
   "pygments_lexer": "ipython3",
   "version": "3.9.7"
  }
 },
 "nbformat": 4,
 "nbformat_minor": 1
}
